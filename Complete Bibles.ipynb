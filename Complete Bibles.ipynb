{
 "cells": [
  {
   "cell_type": "code",
   "execution_count": null,
   "metadata": {},
   "outputs": [],
   "source": [
    "# Laura Burdick (lburdick@umich.edu)\n",
    "# Figure out which Bible translations have 75% of the English KJV Bible"
   ]
  },
  {
   "cell_type": "code",
   "execution_count": 1,
   "metadata": {},
   "outputs": [],
   "source": [
    "from tqdm import tqdm_notebook\n",
    "from collections import Counter\n",
    "import pickle"
   ]
  },
  {
   "cell_type": "code",
   "execution_count": 8,
   "metadata": {},
   "outputs": [],
   "source": [
    "#SET THESE VARIABLES\n",
    "\n",
    "# Location where the Bible text is stored\n",
    "# Should include files book_mappings.txt and versenames.txt, as well as\n",
    "# a folder text/, which includes all the Bible translation texts\n",
    "nicolai_path = '/Users/laura/embedding-spaces/embedding_datasets/multilingual/bible/nicolai/'"
   ]
  },
  {
   "cell_type": "code",
   "execution_count": 9,
   "metadata": {},
   "outputs": [],
   "source": [
    "# Get list of all Bibles\n",
    "with open('all_bible_files.txt','r') as textFile:\n",
    "    fileNames = [i[:-1] for i in textFile.readlines()]"
   ]
  },
  {
   "cell_type": "code",
   "execution_count": 10,
   "metadata": {},
   "outputs": [],
   "source": [
    "# Read in book mappings\n",
    "book_mappings = {} #key: book index, values: book names\n",
    "with open(nicolai_path+'book_mappings.txt','r') as mappingsFile:\n",
    "    lines = [i[:-1] for i in mappingsFile.readlines()]\n",
    "for line in lines:\n",
    "    book_mappings[int(line.split()[0])] = ' '.join(line.split()[1:])"
   ]
  },
  {
   "cell_type": "code",
   "execution_count": 5,
   "metadata": {
    "collapsed": true
   },
   "outputs": [],
   "source": [
    "# Read in versenames\n",
    "with open(nicolai_path+'versenames.txt','r') as verseFile:\n",
    "    versenames_list = [(int(i[:-1][:2]),int(i[:-1][2:5]),int(i[:-1][5:])) for i in verseFile.readlines()] #(book,chapter,verse)\n",
    "\n",
    "#key = line number\n",
    "#value = (book,chapter,verse)\n",
    "#remove all values with chapter <= 0\n",
    "#remove all values with verse <=0\n",
    "#remove all books that are not in protestant Bible\n",
    "versenames = {i:versenames_list[i] for i in range(len(versenames_list)) if versenames_list[i][1]>0 \\\n",
    "              and versenames_list[i][0]!=0 and\\\n",
    "             versenames_list[i][0]<=66 and versenames_list[i][2]>0}"
   ]
  },
  {
   "cell_type": "code",
   "execution_count": 6,
   "metadata": {
    "collapsed": true
   },
   "outputs": [],
   "source": [
    "# Only take verses that are in the KJV Bible\n",
    "all_verses_list = [] # List of (book,chapter,verse) tuples in KJV\n",
    "with open(nicolai_path+'text/eng-x-bible-kingjames-v1.txt','r') as bibleFile:\n",
    "    lines = [i[:-1] for i in bibleFile.readlines()]\n",
    "for i in range(len(lines)):\n",
    "    if len(lines[i]) == 0:\n",
    "        continue\n",
    "    if i in versenames: #we want to count this verse\n",
    "        (book,chapter,verse) = versenames[i]\n",
    "        all_verses_list.append((book,chapter,verse))"
   ]
  },
  {
   "cell_type": "code",
   "execution_count": 7,
   "metadata": {},
   "outputs": [
    {
     "name": "stdout",
     "output_type": "stream",
     "text": [
      "31101\n"
     ]
    }
   ],
   "source": [
    "# Turn into dictionary\n",
    "# key: line number of verse, values: (book,chapter,verse) tuples\n",
    "versenames = {lineNum:(book,chapter,verse) for (lineNum,(book,chapter,verse)) in versenames.items() if \\\n",
    "             (book,chapter,verse) in all_verses_list}\n",
    "all_verses = len(versenames) # Number of verses in KJV\n",
    "print(all_verses)"
   ]
  },
  {
   "cell_type": "code",
   "execution_count": null,
   "metadata": {},
   "outputs": [],
   "source": [
    "# Calculate what percentage of the Bible each file contains\n",
    "all_percentages = []\n",
    "for fileName in tqdm_notebook(fileNames):\n",
    "    with open(nicolai_path+'text/'+fileName,'r') as bibleFile:\n",
    "        lines = [i[:-1] for i in bibleFile.readlines()]\n",
    "    counts = Counter()\n",
    "    for i in range(len(lines)):\n",
    "        if len(lines[i]) == 0:\n",
    "            continue\n",
    "        if i in versenames: #we want to count this verse\n",
    "            (book,chapter,verse) = versenames[i]\n",
    "            counts[book] += 1\n",
    "    totalVerses = 0\n",
    "    for (book,numVerses) in counts.items():\n",
    "        totalVerses += numVerses\n",
    "    all_percentages.append(totalVerses/all_verses)"
   ]
  },
  {
   "cell_type": "code",
   "execution_count": 14,
   "metadata": {},
   "outputs": [
    {
     "data": {
      "text/plain": [
       "46"
      ]
     },
     "execution_count": 14,
     "metadata": {},
     "output_type": "execute_result"
    }
   ],
   "source": [
    "# Bibles that are 100% complete\n",
    "complete_bibles = [fileNames[i] for i in range(len(fileNames)) if all_percentages[i]==1]\n",
    "len(complete_bibles)"
   ]
  },
  {
   "cell_type": "code",
   "execution_count": 17,
   "metadata": {},
   "outputs": [
    {
     "name": "stdout",
     "output_type": "stream",
     "text": [
      "['aln-x-bible-aln-v1.txt', 'arb-x-bible-arb-v1.txt', 'azb-x-bible-azb-v1.txt', 'cac-x-bible-ixtatan-v1.txt', 'ceb-x-bible-bugna2009-v1.txt', 'ceb-x-bible-pinadayag-v1.txt', 'ces-x-bible-kralicka-v1.txt', 'dan-x-bible-1931-v1.txt', 'deu-x-bible-elberfelder1871-v1.txt', 'deu-x-bible-elberfelder1905-v1.txt', 'deu-x-bible-luther1545-v1.txt', 'deu-x-bible-luther1912-v1.txt', 'ell-x-bible-modern2009-v1.txt', 'eng-x-bible-kingjames-v1.txt', 'eng-x-bible-literal-v1.txt', 'eng-x-bible-newsimplified-v1.txt', 'epo-x-bible-epo-v1.txt', 'fin-x-bible-1766-v1.txt', 'fin-x-bible-1992-v1.txt', 'fra-x-bible-bonnet-v1.txt', 'fra-x-bible-darby-v1.txt', 'fra-x-bible-louissegond-v1.txt', 'fra-x-bible-pirotclamer-v1.txt', 'gur-x-bible-frafra-v1.txt', 'hun-x-bible-karoli-v1.txt', 'ita-x-bible-diodati-v1.txt', 'ita-x-bible-nuovadiodati1991-v1.txt', 'ita-x-bible-riveduta-v1.txt', 'kek-x-bible-1988-v1.txt', 'may-ZLMAVB.txt', 'mri-x-bible-mri-v1.txt', 'nld-x-bible-nld-v1.txt', 'por-x-bible-almeidaatualizada-v1.txt', 'qub-x-bible-qub-v1.txt', 'quy-x-bible-quy-v1.txt', 'qxr-QXRBSE.txt', 'ron-x-bible-cornilescu-v1.txt', 'rus-RUSS76.txt', 'rus-x-bible-synodal-v1.txt', 'som-SOMSIM.txt', 'som-x-bible-som-v1.txt', 'suz-SUZWBT.txt', 'tgl-x-bible-1905-v1.txt', 'ukr-x-bible-2009-v1.txt', 'vie-x-bible-1926nocompounds-v1.txt', 'xho-x-bible-xho-v1.txt']\n"
     ]
    }
   ],
   "source": [
    "print(complete_bibles)"
   ]
  },
  {
   "cell_type": "code",
   "execution_count": 15,
   "metadata": {},
   "outputs": [
    {
     "data": {
      "text/plain": [
       "162"
      ]
     },
     "execution_count": 15,
     "metadata": {},
     "output_type": "execute_result"
    }
   ],
   "source": [
    "# Bibles that are at least 75% complete\n",
    "almost_complete_bibles = [fileNames[i] for i in range(len(fileNames)) if all_percentages[i]>.75]\n",
    "len(almost_complete_bibles)"
   ]
  },
  {
   "cell_type": "code",
   "execution_count": 18,
   "metadata": {},
   "outputs": [
    {
     "name": "stdout",
     "output_type": "stream",
     "text": [
      "['afr-x-bible-1953-v1.txt', 'aln-x-bible-aln-v1.txt', 'arb-ARBIBS.txt', 'arb-x-bible-arb-v1.txt', 'arz-x-bible-arz-v1.txt', 'ayr-AYMBSB.txt', 'ayr-x-bible-1997-v1.txt', 'ayr-x-bible-2011-v1.txt', 'azb-x-bible-azb-v1.txt', 'azj-AZEBSA.txt', 'bba-BBABSB.txt', 'bba-x-bible-bba-v1.txt', 'ben-x-bible-common-v1.txt', 'ben-x-bible-mussolmani-v1.txt', 'bqc-BQCSIM.txt', 'bqc-x-bible-bqc-v1.txt', 'bul-x-bible-bul-v1.txt', 'bul-x-bible-veren-v1.txt', 'cac-x-bible-ixtatan-v1.txt', 'cak-x-bible-central2003-v1.txt', 'ceb-x-bible-bugna2009-v1.txt', 'ceb-x-bible-bugna-v1.txt', 'ceb-x-bible-godsword-v1.txt', 'ceb-x-bible-pinadayag-v1.txt', 'ces-x-bible-ekumenicky-v1.txt', 'ces-x-bible-kralicka-v1.txt', 'che-CHEIBT.txt', 'cme-CNHBSM.txt', 'cmn-x-bible-sf_ncv-zefania-v1.txt', 'cnh-x-bible-cnh-v1.txt', 'crh-CRHIBT.txt', 'cym-x-bible-colloquial2013-v1.txt', 'cym-x-bible-morgan1804-v1.txt', 'dan-x-bible-1931-v1.txt', 'deu-x-bible-elberfelder1871-v1.txt', 'deu-x-bible-elberfelder1905-v1.txt', 'deu-x-bible-freebible-v1.txt', 'deu-x-bible-gruenewalder-v1.txt', 'deu-x-bible-luther1545letztehand-v1.txt', 'deu-x-bible-luther1545-v1.txt', 'deu-x-bible-luther1912-v1.txt', 'deu-x-bible-neue-v1.txt', 'deu-x-bible-pattloch-v1.txt', 'deu-x-bible-schlachter-v1.txt', 'deu-x-bible-tafelbibel-v1.txt', 'deu-x-bible-textbibel-v1.txt', 'deu-x-bible-zuercher-v1.txt', 'dyu-DYUWYI.txt', 'ell-x-bible-modern2009-v1.txt', 'eng-x-bible-darby-v1.txt', 'eng-x-bible-kingjames-v1.txt', 'eng-x-bible-literal-v1.txt', 'eng-x-bible-newsimplified-v1.txt', 'epo-x-bible-epo-v1.txt', 'fin-x-bible-1766-v1.txt', 'fin-x-bible-1933-v1.txt', 'fin-x-bible-1992-v1.txt', 'fra-x-bible-bonnet-v1.txt', 'fra-x-bible-crampon-v1.txt', 'fra-x-bible-darby-v1.txt', 'fra-x-bible-davidmartin-v1.txt', 'fra-x-bible-jerusalem2004-v1.txt', 'fra-x-bible-kingjames-v1.txt', 'fra-x-bible-louissegond-v1.txt', 'fra-x-bible-ostervald1867-v1.txt', 'fra-x-bible-paroledevie-v1.txt', 'fra-x-bible-perret-v1.txt', 'fra-x-bible-pirotclamer-v1.txt', 'gub-GUBWBT.txt', 'guj-x-bible-guj-v1.txt', 'gur-x-bible-frafra-v1.txt', 'hat-x-bible-1985-v1.txt', 'hat-x-bible-1999-v1.txt', 'hmo-x-bible-hmo-v1.txt', 'hrv-x-bible-hrv-v1.txt', 'hui-HUIPNG.txt', 'hun-x-bible-2005-v1.txt', 'hun-x-bible-karoli-v1.txt', 'ifa-IFAWBT.txt', 'ifb-IFBTBL.txt', 'ify-IFYWBT.txt', 'ify-x-bible-ify-v1.txt', 'ind-x-bible-suciinjil-v1.txt', 'ind-x-bible-terjemahanbaru-v1.txt', 'ita-x-bible-2009-v1.txt', 'ita-x-bible-diodati-v1.txt', 'ita-x-bible-nuovadiodati1991-v1.txt', 'ita-x-bible-riveduta-v1.txt', 'kac-KACUBS.txt', 'kaz-x-bible-kaz-v1.txt', 'kek-x-bible-1988-v1.txt', 'kek-x-bible-2005-v1.txt', 'kjb-x-bible-kjb-v1.txt', 'kor-x-bible-revised-v1.txt', 'lat-x-bible-novavulgata-v1.txt', 'lat-x-bible-vulgataclementina-v1.txt', 'lit-x-bible-lit-v1.txt', 'lnd-LNDBSM.txt', 'lsi-LSIBSM.txt', 'mad-MADIBS.txt', 'mah-x-bible-mah-v1.txt', 'mam-x-bible-northern-v1.txt', 'may-ZLMAVB.txt', 'mdy-MDYBSE.txt', 'mlg-MLGRCV.txt', 'mlg-MLGRPV.txt', 'mps-x-bible-mps-v1.txt', 'mri-x-bible-mri-v1.txt', 'mrw-MRWNVS.txt', 'mya-x-bible-mya-v1.txt', 'nhe-NHETBL.txt', 'nld-x-bible-nld-v1.txt', 'nor-x-bible-nor-v1.txt', 'nor-x-bible-student-v1.txt', 'pis-x-bible-pis-v1.txt', 'plt-x-bible-romancatholic-v1.txt', 'poh-POHPOC.txt', 'poh-x-bible-eastern-v1.txt', 'por-x-bible-almeidaatualizada-v1.txt', 'por-x-bible-almeidarevista-v1.txt', 'por-x-bible-paratodos-v1.txt', 'prs-PRSGNN.txt', 'pxm-PXMBSM.txt', 'qub-x-bible-qub-v1.txt', 'quh-QUHSBB.txt', 'quh-x-bible-1993-v1.txt', 'quy-x-bible-quy-v1.txt', 'quz-QUZPBS.txt', 'quz-x-bible-quz-v1.txt', 'qxr-QXRBSE.txt', 'ron-x-bible-cornilescu-v1.txt', 'rug-RUGWBT.txt', 'rus-RUSS76.txt', 'rus-x-bible-synodal-v1.txt', 'som-SOMSIM.txt', 'som-x-bible-som-v1.txt', 'suz-SUZWBT.txt', 'swe-SWESFB.txt', 'swe-SWESFV.txt', 'swe-x-bible-folk1998-v1.txt', 'tat-TTRIBT.txt', 'tbz-TBZBSB.txt', 'tbz-x-bible-tbz-v1.txt', 'tcw-x-bible-tcw-v1.txt', 'tgl-x-bible-1905-v1.txt', 'tlh-x-bible-klingon-v1.txt', 'tpi-x-bible-tpi-v1.txt', 'tpm-TPMWBT.txt', 'tpm-x-bible-tpm-v1.txt', 'tur-x-bible-southernazeri-v1.txt', 'tzo-TZESBM.txt', 'ukr-x-bible-1962-v1.txt', 'ukr-x-bible-2009-v1.txt', 'vie-x-bible-1926compounds-v1.txt', 'vie-x-bible-1926nocompounds-v1.txt', 'vie-x-bible-2002-v1.txt', 'wal-x-bible-wal-v1.txt', 'wbm-x-bible-wbm-v1.txt', 'xho-x-bible-1996-v1.txt', 'xho-x-bible-xho-v1.txt', 'yua-YUASBM.txt', 'zom-x-bible-zom-v1.txt']\n"
     ]
    }
   ],
   "source": [
    "print(almost_complete_bibles)"
   ]
  },
  {
   "cell_type": "code",
   "execution_count": 16,
   "metadata": {},
   "outputs": [
    {
     "name": "stdout",
     "output_type": "stream",
     "text": [
      "31101\n",
      "23325.75\n"
     ]
    }
   ],
   "source": [
    "print(len(versenames)) # Total number of verses in Bible\n",
    "print(0.75*len(versenames)) # Number of verses in 75% complete Bible"
   ]
  }
 ],
 "metadata": {
  "kernelspec": {
   "display_name": "Python 3",
   "language": "python",
   "name": "python3"
  },
  "language_info": {
   "codemirror_mode": {
    "name": "ipython",
    "version": 3
   },
   "file_extension": ".py",
   "mimetype": "text/x-python",
   "name": "python",
   "nbconvert_exporter": "python",
   "pygments_lexer": "ipython3",
   "version": "3.7.4"
  }
 },
 "nbformat": 4,
 "nbformat_minor": 2
}
