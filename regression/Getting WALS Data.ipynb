{
 "cells": [
  {
   "cell_type": "code",
   "execution_count": null,
   "metadata": {},
   "outputs": [],
   "source": [
    "# Laura Burdick (lburdick@umich.edu)\n",
    "# Read in and format WALS data"
   ]
  },
  {
   "cell_type": "code",
   "execution_count": null,
   "metadata": {},
   "outputs": [],
   "source": [
    "import pandas as pd\n",
    "from tqdm import tqdm_notebook"
   ]
  },
  {
   "cell_type": "code",
   "execution_count": null,
   "metadata": {},
   "outputs": [],
   "source": [
    "# SET THESE VARIABLES\n",
    "\n",
    "# Folder location of WALS data\n",
    "# Can be downloaded from https://wals.info.\n",
    "# In this folder, you should have languages.csv, parameters.csv, and\n",
    "# values.csv, as downloaded.\n",
    "wals_path = '~/embedding-spaces/embedding_datasets/wals/wals_dataset/'\n",
    "\n",
    "# Location to save WALS values\n",
    "# Will be formatted as a csv file, with a separate column for each\n",
    "# WALS value, as well as a column called \"language\" with the Bible\n",
    "# language codes\n",
    "wals_output_path = '~/embedding-spaces/multilingual_thesis/regression/data/wals_values_bible.csv'"
   ]
  },
  {
   "cell_type": "code",
   "execution_count": null,
   "metadata": {},
   "outputs": [],
   "source": [
    "# Read in WALS data\n",
    "languages = pd.read_csv(wals_path+'languages.csv')\n",
    "parameters = pd.read_csv(wals_path+'parameters.csv')\n",
    "values = pd.read_csv(wals_path+'values.csv')"
   ]
  },
  {
   "cell_type": "code",
   "execution_count": null,
   "metadata": {},
   "outputs": [],
   "source": [
    "# All WALS IDs\n",
    "parameter_ids = list(parameters['ID'])"
   ]
  },
  {
   "cell_type": "code",
   "execution_count": null,
   "metadata": {},
   "outputs": [],
   "source": [
    "# List of all languages in either Wikipedia or the Bible\n",
    "all_languages = ['afr', 'aln', 'arb', 'arz', 'ayr', 'azb', 'azj', 'bba', 'ben', 'bqc', 'bul', 'cac', 'cak', 'ceb',\\\n",
    "                 'ces', 'che', 'cme', 'cmn', 'cnh', 'crh', 'cym', 'dan', 'deu', 'dyu', 'ell', 'eng', 'epo', 'fin',\\\n",
    "                 'fra', 'gub', 'guj', 'gur', 'hat', 'hmo', 'hrv', 'hui', 'hun', 'ifa', 'ifb', 'ify', 'ind', 'ita',\\\n",
    "                 'kac', 'kaz', 'kek', 'kjb', 'kor', 'lat', 'lit', 'lnd', 'lsi', 'mad', 'mah', 'mam', 'may', 'mdy',\\\n",
    "                 'mlg', 'mps', 'mri', 'mrw', 'mya', 'nhe', 'nld', 'nor', 'pis', 'plt', 'poh', 'por', 'prs', 'pxm',\\\n",
    "                 'qub', 'quh', 'quy', 'quz', 'qxr', 'ron', 'rug', 'rus', 'som', 'suz', 'swe', 'tat', 'tbz', 'tcw',\\\n",
    "                 'tgl', 'tlh', 'tpi', 'tpm', 'tur', 'tzo', 'ukr', 'vie', 'wal', 'wbm', 'xho', 'yua', 'zom', 'cat',\\\n",
    "                 'spa', 'est', 'fas', 'heb', 'hin', 'jpn', 'lav', 'pol', 'slk', 'slv', 'srp', 'tha','mnd']"
   ]
  },
  {
   "cell_type": "code",
   "execution_count": null,
   "metadata": {},
   "outputs": [],
   "source": [
    "# Get all WALS properties for all languages\n",
    "all_data = {} #key: WALS parameter ID, values: list of WALS properties that ID for each language\n",
    "for parameter_id in tqdm_notebook(parameter_ids):\n",
    "    new_parameters = []\n",
    "    for language in all_languages:\n",
    "        lookup = values.loc[(values.Language_ID==language) & (values.Parameter_ID==parameter_id)]\n",
    "        if len(lookup)==0:\n",
    "            new_parameters.append('')\n",
    "        else:\n",
    "            new_parameters.append(list(lookup['Value'])[0])\n",
    "    all_data[parameter_id] = new_parameters"
   ]
  },
  {
   "cell_type": "code",
   "execution_count": null,
   "metadata": {},
   "outputs": [],
   "source": [
    "# Save formatted results\n",
    "results = pd.DataFrame(data=all_data)\n",
    "current_columns = results.columns.values\n",
    "new_columns = [i+': '+str(list(parameters.loc[parameters.ID==i]['Name'])[0]) for i in current_columns]\n",
    "results.columns = new_columns\n",
    "results['language'] = all_languages\n",
    "results.to_csv(wals_output_path)"
   ]
  }
 ],
 "metadata": {
  "kernelspec": {
   "display_name": "Python 3",
   "language": "python",
   "name": "python3"
  },
  "language_info": {
   "codemirror_mode": {
    "name": "ipython",
    "version": 3
   },
   "file_extension": ".py",
   "mimetype": "text/x-python",
   "name": "python",
   "nbconvert_exporter": "python",
   "pygments_lexer": "ipython3",
   "version": "3.7.4"
  }
 },
 "nbformat": 4,
 "nbformat_minor": 2
}
