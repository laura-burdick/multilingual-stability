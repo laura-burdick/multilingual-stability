{
 "cells": [
  {
   "cell_type": "code",
   "execution_count": null,
   "metadata": {},
   "outputs": [],
   "source": [
    "# Laura Burdick (lburdick@umich.edu)\n",
    "# Make WALS values binary"
   ]
  },
  {
   "cell_type": "code",
   "execution_count": null,
   "metadata": {},
   "outputs": [],
   "source": [
    "import pandas as pd"
   ]
  },
  {
   "cell_type": "code",
   "execution_count": null,
   "metadata": {},
   "outputs": [],
   "source": [
    "# SET THESE VARIABLES\n",
    "\n",
    "# Location of WALS values (from Getting WALS Data.ipynb)\n",
    "# Should be formatted as a csv file, with a separate column for each\n",
    "# WALS value, as well as a column called \"language\" with the Bible\n",
    "# language codes\n",
    "wals_path = '~/embedding-spaces/multilingual_thesis/regression/data/wals_values_bible.csv'\n",
    "\n",
    "# Location of output binary WALS features\n",
    "# Will be formatted as a csv file, with a separate column for each\n",
    "# binary WALS value, as well as a column called \"language\" with the\n",
    "# Bible language codes\n",
    "binary_wals_path = '~/embedding-spaces/multilingual_thesis/regression/data/wals_bible_binary_values.csv'"
   ]
  },
  {
   "cell_type": "code",
   "execution_count": null,
   "metadata": {},
   "outputs": [],
   "source": [
    "# Read in WALS values\n",
    "wals = pd.read_csv(wals_path)\n",
    "wals = wals.drop(\"Unnamed: 0\",axis=1)"
   ]
  },
  {
   "cell_type": "code",
   "execution_count": null,
   "metadata": {},
   "outputs": [],
   "source": [
    "# From https://thispointer.com/how-to-find-drop-duplicate-columns-in-a-dataframe-python-pandas/\n",
    "def getDuplicateColumns(df):\n",
    "    '''\n",
    "    Get a list of duplicate columns.\n",
    "    It will iterate over all the columns in dataframe and find the columns whose contents are duplicate.\n",
    "    :param df: Dataframe object\n",
    "    :return: List of columns whose contents are duplicates.\n",
    "    '''\n",
    "    duplicateColumnNames = set()\n",
    "    # Iterate over all the columns in dataframe\n",
    "    for x in range(df.shape[1]):\n",
    "        # Select column at xth index.\n",
    "        col = df.iloc[:, x]\n",
    "        # Iterate over all the columns in DataFrame from (x+1)th index till end\n",
    "        for y in range(x + 1, df.shape[1]):\n",
    "            # Select column at yth index.\n",
    "            otherCol = df.iloc[:, y]\n",
    "            # Check if two columns at x 7 y index are equal\n",
    "            if col.equals(otherCol):\n",
    "                duplicateColumnNames.add(df.columns.values[y])\n",
    " \n",
    "    return list(duplicateColumnNames)"
   ]
  },
  {
   "cell_type": "code",
   "execution_count": null,
   "metadata": {},
   "outputs": [],
   "source": [
    "# Drop duplicate columns\n",
    "duplicated = getDuplicateColumns(wals) #all nan in the column right now\n",
    "wals = wals.drop(duplicated,axis=1)"
   ]
  },
  {
   "cell_type": "code",
   "execution_count": null,
   "metadata": {},
   "outputs": [],
   "source": [
    "# List of WALS category names\n",
    "wals_value_names = wals.columns.values[:-4]"
   ]
  },
  {
   "cell_type": "code",
   "execution_count": null,
   "metadata": {},
   "outputs": [],
   "source": [
    "# Replace NaN with '' in WALS\n",
    "wals = wals.fillna('')"
   ]
  },
  {
   "cell_type": "code",
   "execution_count": null,
   "metadata": {},
   "outputs": [],
   "source": [
    "# For each WALS category, get list of values and attach them to WALS\n",
    "# category name (to get binary features)\n",
    "new_value_names = []\n",
    "for name in wals_value_names:\n",
    "    print(name)\n",
    "    values = [i for i in list(set(list(wals[name])))]\n",
    "    print(values)\n",
    "    for value in values:\n",
    "        wals[name+'__'+str(value)] = [1 if i==value else 0 for i in wals[name] ]\n",
    "        new_value_names.append(name+'__'+str(value))"
   ]
  },
  {
   "cell_type": "code",
   "execution_count": null,
   "metadata": {},
   "outputs": [],
   "source": [
    "# Save binary features\n",
    "wals_binary = wals[new_value_names+['language']]\n",
    "wals_binary.to_csv(binary_wals_path)"
   ]
  }
 ],
 "metadata": {
  "kernelspec": {
   "display_name": "Python 3",
   "language": "python",
   "name": "python3"
  },
  "language_info": {
   "codemirror_mode": {
    "name": "ipython",
    "version": 3
   },
   "file_extension": ".py",
   "mimetype": "text/x-python",
   "name": "python",
   "nbconvert_exporter": "python",
   "pygments_lexer": "ipython3",
   "version": "3.7.4"
  }
 },
 "nbformat": 4,
 "nbformat_minor": 2
}
