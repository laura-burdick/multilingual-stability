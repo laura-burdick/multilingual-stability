{
 "cells": [
  {
   "cell_type": "code",
   "execution_count": 3,
   "metadata": {
    "collapsed": true
   },
   "outputs": [],
   "source": [
    "import pandas as pd\n",
    "import copy\n",
    "from tqdm import tqdm_notebook, tnrange\n",
    "import time\n",
    "import pickle"
   ]
  },
  {
   "cell_type": "code",
   "execution_count": 4,
   "metadata": {
    "collapsed": true
   },
   "outputs": [],
   "source": [
    "languages = ['ar','bg','ca','cs','da','de','el','en','et','fi','fr','he','hi','hu','id',\n",
    "            'it','ja','ko','lt','lv','ms','nl','no','pl','pt','ro','ru','sk','sl','sr','sv','th','tr','uk',\n",
    "            'vi','hr','tl','zh','fa','es']"
   ]
  },
  {
   "cell_type": "code",
   "execution_count": 8,
   "metadata": {
    "collapsed": true
   },
   "outputs": [],
   "source": [
    "polyglot_path = '../../embedding_datasets/polyglot/'"
   ]
  },
  {
   "cell_type": "code",
   "execution_count": 9,
   "metadata": {
    "scrolled": true
   },
   "outputs": [],
   "source": [
    "stabilities = []\n",
    "for language in languages:\n",
    "    _stabilities = pd.read_csv(polyglot_path+language+'_downsampled_without_replacement_glove_stability_4.csv')\n",
    "    _stabilities = _stabilities.drop('Unnamed: 0',axis=1)\n",
    "    stabilities.append(_stabilities)"
   ]
  },
  {
   "cell_type": "code",
   "execution_count": 10,
   "metadata": {
    "collapsed": true
   },
   "outputs": [],
   "source": [
    "wals = pd.read_csv('wals_polyglot_binary_values.csv')\n",
    "wals = wals.drop('Unnamed: 0',axis=1)"
   ]
  },
  {
   "cell_type": "code",
   "execution_count": 11,
   "metadata": {
    "collapsed": true,
    "scrolled": true
   },
   "outputs": [],
   "source": [
    "wals_numbers = list(set([i.split(':')[0] for i in wals.columns.values][:-1]))"
   ]
  },
  {
   "cell_type": "code",
   "execution_count": 12,
   "metadata": {
    "collapsed": true
   },
   "outputs": [],
   "source": [
    "ratios = []\n",
    "good_wals = []\n",
    "all_column_counts = []\n",
    "for number in wals_numbers:\n",
    "    relevant_columns = [i for i in wals.columns.values[:-1] if i.split(':')[0]==number]\n",
    "    null_column = [i for i in relevant_columns if i.split('__')[-1]==''][0]\n",
    "    relevant_columns = [i for i in relevant_columns if i != null_column]\n",
    "    null_column_count = wals[null_column].sum()\n",
    "    total_relevant_count = 0\n",
    "    good = True\n",
    "    for column in relevant_columns:\n",
    "        column_count = wals[column].sum()\n",
    "        total_relevant_count += column_count\n",
    "        all_column_counts.append(column_count)\n",
    "        if column_count < 5: #Less than five languages have this property\n",
    "            good = False\n",
    "    ratio = null_column_count / (null_column_count+total_relevant_count) #percent of languages that don't have this feature\n",
    "    ratios.append(ratio)\n",
    "    if ratio < 0.75 and good: #At least 75% of the languages have this property\n",
    "        good_wals.append(number)"
   ]
  },
  {
   "cell_type": "code",
   "execution_count": 13,
   "metadata": {},
   "outputs": [
    {
     "data": {
      "text/plain": [
       "0.19662921348314608"
      ]
     },
     "execution_count": 13,
     "metadata": {},
     "output_type": "execute_result"
    }
   ],
   "source": [
    "len(good_wals)/len(ratios) #percentage of wals properties that we're keeping"
   ]
  },
  {
   "cell_type": "code",
   "execution_count": 124,
   "metadata": {},
   "outputs": [
    {
     "name": "stdout",
     "output_type": "stream",
     "text": [
      "ar\n"
     ]
    },
    {
     "data": {
      "application/vnd.jupyter.widget-view+json": {
       "model_id": "5cb35d4b11c44a0d9ee7e56c2c502cfe"
      }
     },
     "metadata": {},
     "output_type": "display_data"
    },
    {
     "name": "stdout",
     "output_type": "stream",
     "text": [
      "\n",
      "Coverage: 6908 / 29579 = 0.23354406842692452\n",
      "bg\n"
     ]
    },
    {
     "data": {
      "application/vnd.jupyter.widget-view+json": {
       "model_id": "27a61c467d2946649661275c99dea547"
      }
     },
     "metadata": {},
     "output_type": "display_data"
    },
    {
     "name": "stdout",
     "output_type": "stream",
     "text": [
      "\n",
      "Coverage: 3572 / 17836 = 0.20026911863646557\n",
      "ca\n"
     ]
    },
    {
     "name": "stderr",
     "output_type": "stream",
     "text": [
      "/Users/laura/anaconda/lib/python3.6/site-packages/ipykernel_launcher.py:13: SettingWithCopyWarning: \n",
      "A value is trying to be set on a copy of a slice from a DataFrame.\n",
      "Try using .loc[row_indexer,col_indexer] = value instead\n",
      "\n",
      "See the caveats in the documentation: http://pandas.pydata.org/pandas-docs/stable/indexing.html#indexing-view-versus-copy\n",
      "  del sys.path[0]\n"
     ]
    },
    {
     "data": {
      "application/vnd.jupyter.widget-view+json": {
       "model_id": "2558140db5c84f8387bedfcf89e914d2"
      }
     },
     "metadata": {},
     "output_type": "display_data"
    },
    {
     "name": "stdout",
     "output_type": "stream",
     "text": [
      "\n",
      "Coverage: 11883 / 19895 = 0.5972857501884896\n",
      "cs\n"
     ]
    },
    {
     "data": {
      "application/vnd.jupyter.widget-view+json": {
       "model_id": "97a0186f7e5f4f7185cecf6e2b00bac3"
      }
     },
     "metadata": {},
     "output_type": "display_data"
    },
    {
     "name": "stdout",
     "output_type": "stream",
     "text": [
      "\n",
      "Coverage: 4819 / 19170 = 0.25138236828377675\n",
      "da\n"
     ]
    },
    {
     "data": {
      "application/vnd.jupyter.widget-view+json": {
       "model_id": "80113c8007f6469488d71ebf0da2c71b"
      }
     },
     "metadata": {},
     "output_type": "display_data"
    },
    {
     "name": "stdout",
     "output_type": "stream",
     "text": [
      "\n",
      "Coverage: 6428 / 15879 = 0.4048113861074375\n",
      "de\n"
     ]
    },
    {
     "data": {
      "application/vnd.jupyter.widget-view+json": {
       "model_id": "43264ee779364bb8b0fb2cb40237cafe"
      }
     },
     "metadata": {},
     "output_type": "display_data"
    },
    {
     "name": "stdout",
     "output_type": "stream",
     "text": [
      "\n",
      "Coverage: 11294 / 15352 = 0.7356696195935383\n",
      "el\n"
     ]
    },
    {
     "data": {
      "application/vnd.jupyter.widget-view+json": {
       "model_id": "89ffffc79a0b482282ea39d03ede1a67"
      }
     },
     "metadata": {},
     "output_type": "display_data"
    },
    {
     "name": "stdout",
     "output_type": "stream",
     "text": [
      "\n",
      "Coverage: 7767 / 21669 = 0.35843832202685866\n",
      "en\n"
     ]
    },
    {
     "data": {
      "application/vnd.jupyter.widget-view+json": {
       "model_id": "c22aa9e7331e4d2e88dd1b232841058b"
      }
     },
     "metadata": {},
     "output_type": "display_data"
    },
    {
     "name": "stdout",
     "output_type": "stream",
     "text": [
      "\n",
      "Coverage: 14339 / 17587 = 0.815318132711662\n",
      "et\n"
     ]
    },
    {
     "data": {
      "application/vnd.jupyter.widget-view+json": {
       "model_id": "8d387b7a89f04ed0b79d173a51bd88cb"
      }
     },
     "metadata": {},
     "output_type": "display_data"
    },
    {
     "name": "stdout",
     "output_type": "stream",
     "text": [
      "\n",
      "Coverage: 2021 / 15407 = 0.13117414162393717\n",
      "fi\n"
     ]
    },
    {
     "data": {
      "application/vnd.jupyter.widget-view+json": {
       "model_id": "bd44710d73bb425c85299e84778c3dab"
      }
     },
     "metadata": {},
     "output_type": "display_data"
    },
    {
     "name": "stdout",
     "output_type": "stream",
     "text": [
      "\n",
      "Coverage: 7883 / 15705 = 0.5019420566698504\n",
      "fr\n"
     ]
    },
    {
     "data": {
      "application/vnd.jupyter.widget-view+json": {
       "model_id": "10f8d46264ed47288b21b9908da319eb"
      }
     },
     "metadata": {},
     "output_type": "display_data"
    },
    {
     "name": "stdout",
     "output_type": "stream",
     "text": [
      "\n",
      "Coverage: 13464 / 19768 = 0.6811007689194658\n",
      "he\n"
     ]
    },
    {
     "data": {
      "application/vnd.jupyter.widget-view+json": {
       "model_id": "dec13872565047eb916452aedc10ba16"
      }
     },
     "metadata": {},
     "output_type": "display_data"
    },
    {
     "name": "stdout",
     "output_type": "stream",
     "text": [
      "\n",
      "Coverage: 4222 / 25835 = 0.16342171472808206\n",
      "hi\n"
     ]
    },
    {
     "data": {
      "application/vnd.jupyter.widget-view+json": {
       "model_id": "c01ff007238a4f199e913168768bed95"
      }
     },
     "metadata": {},
     "output_type": "display_data"
    },
    {
     "name": "stdout",
     "output_type": "stream",
     "text": [
      "\n",
      "Coverage: 5101 / 14804 = 0.34456903539583894\n",
      "hu\n"
     ]
    },
    {
     "data": {
      "application/vnd.jupyter.widget-view+json": {
       "model_id": "177199494a854905a08f565241615137"
      }
     },
     "metadata": {},
     "output_type": "display_data"
    },
    {
     "name": "stdout",
     "output_type": "stream",
     "text": [
      "\n",
      "Coverage: 8894 / 17940 = 0.49576365663322186\n",
      "id\n"
     ]
    },
    {
     "data": {
      "application/vnd.jupyter.widget-view+json": {
       "model_id": "fcc1bdfc7b1f4c1db9ee294e677340b8"
      }
     },
     "metadata": {},
     "output_type": "display_data"
    },
    {
     "name": "stdout",
     "output_type": "stream",
     "text": [
      "\n",
      "Coverage: 2271 / 17108 = 0.13274491465980828\n",
      "it\n"
     ]
    },
    {
     "data": {
      "application/vnd.jupyter.widget-view+json": {
       "model_id": "abeed698ea8546f6babd6ba6208394e4"
      }
     },
     "metadata": {},
     "output_type": "display_data"
    },
    {
     "name": "stdout",
     "output_type": "stream",
     "text": [
      "\n",
      "Coverage: 15333 / 22929 = 0.6687164725892975\n",
      "ja\n"
     ]
    },
    {
     "data": {
      "application/vnd.jupyter.widget-view+json": {
       "model_id": "2b0b4d7966014fef913c54c044e5af71"
      }
     },
     "metadata": {},
     "output_type": "display_data"
    },
    {
     "name": "stdout",
     "output_type": "stream",
     "text": [
      "\n",
      "Coverage: 6829 / 8072 = 0.8460109018830525\n",
      "ko\n"
     ]
    },
    {
     "data": {
      "application/vnd.jupyter.widget-view+json": {
       "model_id": "bb9827fbbc9944c49842e438b40aef53"
      }
     },
     "metadata": {},
     "output_type": "display_data"
    },
    {
     "name": "stdout",
     "output_type": "stream",
     "text": [
      "\n",
      "Coverage: 4666 / 22719 = 0.20537875786786391\n",
      "lt\n"
     ]
    },
    {
     "data": {
      "application/vnd.jupyter.widget-view+json": {
       "model_id": "59f4b4ac77d242539a83dcf0240807ff"
      }
     },
     "metadata": {},
     "output_type": "display_data"
    },
    {
     "name": "stdout",
     "output_type": "stream",
     "text": [
      "\n",
      "Coverage: 1589 / 12864 = 0.12352300995024876\n",
      "lv\n"
     ]
    },
    {
     "data": {
      "application/vnd.jupyter.widget-view+json": {
       "model_id": "9924702119db46478cd0296641589dae"
      }
     },
     "metadata": {},
     "output_type": "display_data"
    },
    {
     "name": "stdout",
     "output_type": "stream",
     "text": [
      "\n",
      "Coverage: 4834 / 15856 = 0.3048688193743693\n",
      "ms\n"
     ]
    },
    {
     "data": {
      "application/vnd.jupyter.widget-view+json": {
       "model_id": "2ffc075266794312a053926fd43109be"
      }
     },
     "metadata": {},
     "output_type": "display_data"
    },
    {
     "name": "stdout",
     "output_type": "stream",
     "text": [
      "\n",
      "Coverage: 1964 / 15007 = 0.130872259612181\n",
      "nl\n"
     ]
    },
    {
     "data": {
      "application/vnd.jupyter.widget-view+json": {
       "model_id": "a8fd6f4acc4844fe857feda071e5b20d"
      }
     },
     "metadata": {},
     "output_type": "display_data"
    },
    {
     "name": "stdout",
     "output_type": "stream",
     "text": [
      "\n",
      "Coverage: 7593 / 13690 = 0.5546384222059898\n",
      "no\n"
     ]
    },
    {
     "data": {
      "application/vnd.jupyter.widget-view+json": {
       "model_id": "32539e4add7d495cbcd8b917a0eb119e"
      }
     },
     "metadata": {},
     "output_type": "display_data"
    },
    {
     "name": "stdout",
     "output_type": "stream",
     "text": [
      "\n",
      "Coverage: 2534 / 15321 = 0.16539390379218066\n",
      "pl\n"
     ]
    },
    {
     "data": {
      "application/vnd.jupyter.widget-view+json": {
       "model_id": "7b72a05aa04046de8bac5398eb61f89e"
      }
     },
     "metadata": {},
     "output_type": "display_data"
    },
    {
     "name": "stdout",
     "output_type": "stream",
     "text": [
      "\n",
      "Coverage: 5744 / 18085 = 0.3176112800663533\n",
      "pt\n"
     ]
    },
    {
     "data": {
      "application/vnd.jupyter.widget-view+json": {
       "model_id": "6745ee07b2e340838f2898094dc1ac35"
      }
     },
     "metadata": {},
     "output_type": "display_data"
    },
    {
     "name": "stdout",
     "output_type": "stream",
     "text": [
      "\n",
      "Coverage: 13401 / 20043 = 0.6686124831612034\n",
      "ro\n"
     ]
    },
    {
     "data": {
      "application/vnd.jupyter.widget-view+json": {
       "model_id": "ce90c72af1f840b5ac235a2aa203caf2"
      }
     },
     "metadata": {},
     "output_type": "display_data"
    },
    {
     "name": "stdout",
     "output_type": "stream",
     "text": [
      "\n",
      "Coverage: 4535 / 21285 = 0.21306084096781772\n",
      "ru\n"
     ]
    },
    {
     "data": {
      "application/vnd.jupyter.widget-view+json": {
       "model_id": "7f5e998bf4ad4e849602ad2e3fe34c7f"
      }
     },
     "metadata": {},
     "output_type": "display_data"
    },
    {
     "name": "stdout",
     "output_type": "stream",
     "text": [
      "\n",
      "Coverage: 12474 / 20119 = 0.6200109349371241\n",
      "sk\n"
     ]
    },
    {
     "data": {
      "application/vnd.jupyter.widget-view+json": {
       "model_id": "8916992966e34fef95121928d29f3796"
      }
     },
     "metadata": {},
     "output_type": "display_data"
    },
    {
     "name": "stdout",
     "output_type": "stream",
     "text": [
      "\n",
      "Coverage: 1581 / 17134 = 0.09227267421501109\n",
      "sl\n"
     ]
    },
    {
     "data": {
      "application/vnd.jupyter.widget-view+json": {
       "model_id": "6b03a9de42f24d0a9bc0789ccfb77ba4"
      }
     },
     "metadata": {},
     "output_type": "display_data"
    },
    {
     "name": "stdout",
     "output_type": "stream",
     "text": [
      "\n",
      "Coverage: 1862 / 18459 = 0.10087220326128175\n",
      "sr\n"
     ]
    },
    {
     "data": {
      "application/vnd.jupyter.widget-view+json": {
       "model_id": "0f82f83413d04e6bb2de49e5005db4b0"
      }
     },
     "metadata": {},
     "output_type": "display_data"
    },
    {
     "name": "stdout",
     "output_type": "stream",
     "text": [
      "\n",
      "Coverage: 1535 / 16455 = 0.09328471589182619\n",
      "sv\n"
     ]
    },
    {
     "data": {
      "application/vnd.jupyter.widget-view+json": {
       "model_id": "403b59d8b27c459e86f8404be74bf1cb"
      }
     },
     "metadata": {},
     "output_type": "display_data"
    },
    {
     "name": "stdout",
     "output_type": "stream",
     "text": [
      "\n",
      "Coverage: 8034 / 13089 = 0.6137978455191382\n",
      "th\n"
     ]
    },
    {
     "data": {
      "application/vnd.jupyter.widget-view+json": {
       "model_id": "19eceac1701148c1a010cd0b2e44f1ca"
      }
     },
     "metadata": {},
     "output_type": "display_data"
    },
    {
     "name": "stdout",
     "output_type": "stream",
     "text": [
      "\n",
      "Coverage: 4072 / 25713 = 0.158363473729242\n",
      "tr\n"
     ]
    },
    {
     "data": {
      "application/vnd.jupyter.widget-view+json": {
       "model_id": "67eff42ca8b64ff8809ab0e9952f095c"
      }
     },
     "metadata": {},
     "output_type": "display_data"
    },
    {
     "name": "stdout",
     "output_type": "stream",
     "text": [
      "\n",
      "Coverage: 4005 / 18381 = 0.21788803655949077\n",
      "uk\n"
     ]
    },
    {
     "data": {
      "application/vnd.jupyter.widget-view+json": {
       "model_id": "7ec9259881834665af2096ebd50a17cc"
      }
     },
     "metadata": {},
     "output_type": "display_data"
    },
    {
     "name": "stdout",
     "output_type": "stream",
     "text": [
      "\n",
      "Coverage: 2425 / 18193 = 0.1332930247897543\n",
      "vi\n"
     ]
    },
    {
     "data": {
      "application/vnd.jupyter.widget-view+json": {
       "model_id": "5cdba0a2c7304e0dab7c91def07a9ea3"
      }
     },
     "metadata": {},
     "output_type": "display_data"
    },
    {
     "name": "stdout",
     "output_type": "stream",
     "text": [
      "\n",
      "Coverage: 3075 / 8696 = 0.35361085556577737\n",
      "hr\n"
     ]
    },
    {
     "data": {
      "application/vnd.jupyter.widget-view+json": {
       "model_id": "43c4dc1dc11e46419f7217acfb5d47a0"
      }
     },
     "metadata": {},
     "output_type": "display_data"
    },
    {
     "name": "stdout",
     "output_type": "stream",
     "text": [
      "\n",
      "Coverage: 788 / 18142 = 0.043435122919193034\n",
      "tl\n"
     ]
    },
    {
     "data": {
      "application/vnd.jupyter.widget-view+json": {
       "model_id": "493ab2695e594fa9b271937565479e8d"
      }
     },
     "metadata": {},
     "output_type": "display_data"
    },
    {
     "name": "stdout",
     "output_type": "stream",
     "text": [
      "\n",
      "Coverage: 2906 / 16688 = 0.17413710450623202\n",
      "zh\n"
     ]
    },
    {
     "data": {
      "application/vnd.jupyter.widget-view+json": {
       "model_id": "0e43c6223c494fc8a37f0868b619a94d"
      }
     },
     "metadata": {},
     "output_type": "display_data"
    },
    {
     "name": "stdout",
     "output_type": "stream",
     "text": [
      "\n",
      "Coverage: 4082 / 5916 = 0.6899932386747802\n",
      "896.8797090053558\n"
     ]
    }
   ],
   "source": [
    "start = time.time()\n",
    "for language,stabs,frequencies in zip(languages,stabilities,word_frequencies):\n",
    "    print(language)\n",
    "    \n",
    "    frequencies = frequencies.dropna()\n",
    "    \n",
    "    language_pos = word_pos.loc[word_pos.language==language]\n",
    "\n",
    "    word_lengths = [len(word) for word in frequencies.word]\n",
    "    largest_word_length = max(word_lengths)\n",
    "    smallest_word_length = min(word_lengths)\n",
    "    word_length_range = largest_word_length - smallest_word_length\n",
    "    frequencies['normalized_word_length'] = [(i-smallest_word_length)/word_length_range for i in word_lengths]\n",
    "    \n",
    "    #word_length_values = sorted(list(set(list(frequencies['normalized_word_length']))))\n",
    "    #print('len(word_length_values)',len(word_length_values))\n",
    "    #max_index = len(word_length_values)-1\n",
    "    #frequencies['word_length_rank'] = [word_length_values.index(i)/max_index for i in frequencies['normalized_word_length']]\n",
    "\n",
    "    sorted_frequencies = frequencies.sort_values('freqency')\n",
    "    frequency_values = sorted(list(set(list(sorted_frequencies['freqency']))))\n",
    "    max_index = len(frequency_values)-1\n",
    "    sorted_frequencies['frequency_rank'] = [frequency_values.index(i)/max_index for i in sorted_frequencies['freqency']]\n",
    "    \n",
    "    smallest_frequency = min(sorted_frequencies['freqency'])\n",
    "    largest_frequency = max(sorted_frequencies['freqency'])\n",
    "    frequency_range = largest_frequency - smallest_frequency\n",
    "    sorted_frequencies['normalized_freq'] = [(i-smallest_frequency)/frequency_range for i in sorted_frequencies['freqency']]\n",
    "    \n",
    "    num_covered = 0\n",
    "    error = False\n",
    "    all_features = []\n",
    "    all_targets = []\n",
    "    with tqdm_notebook(total=len(stabs)) as pbar:\n",
    "        for it,row in stabs.iterrows():\n",
    "            features = []\n",
    "            word = row['word']\n",
    "            if word != word: #filter out nan\n",
    "                pbar.update(1)\n",
    "                continue\n",
    "            \n",
    "            #stability = row['stability']\n",
    "            #all_targets.append(stability) #Target: stability of word\n",
    "\n",
    "            pos_properties = language_pos.loc[language_pos.word==word]\n",
    "            if len(pos_properties) == 0: #can't find in word_pos\n",
    "                features += [0]*19\n",
    "            else:\n",
    "                num_covered += 1\n",
    "                #features += list(pos_properties[['pos_', 'pos_adverb',\n",
    "           #'pos_letter', 'pos_syllable', 'pos_symbol', 'pos_determiner',\n",
    "           #'pos_noun', 'pos_article', 'pos_phrase', 'pos_proverb', 'pos_verb',\n",
    "           #'pos_preposition', 'pos_numeral', 'pos_initialism',\n",
    "           #'pos_adjective', 'pos_proper noun', 'pos_interjection',\n",
    "           #'pos_pronoun', 'pos_conjunction']].iloc[0])\n",
    "\n",
    "            #relevant_frequencies = sorted_frequencies.loc[sorted_frequencies.word==word]\n",
    "            #if len(relevant_frequencies) < 1:\n",
    "            #    print('ERROR: no frequency information for word '+str(word)+' in language '+str(language))\n",
    "            #    error = True\n",
    "            #    break\n",
    "                \n",
    "            #Ranked frequency of word (between 0 and 1)\n",
    "            #Normalized frequency of word (between 0 and 1)\n",
    "            #Ranked length of word (between 0 and 1)\n",
    "            #Normalized length of word (between 0 and 1)\n",
    "            #features += list(relevant_frequencies[['frequency_rank','normalized_freq','normalized_word_length']].iloc[0])\n",
    "\n",
    "            #all_features.append(features)\n",
    "            pbar.update(1)\n",
    "            \n",
    "    #if error:\n",
    "    #    break\n",
    "        \n",
    "    #print('Saving word features')\n",
    "    #with open('word_features_'+language+'.pkl','wb') as pickleFile:\n",
    "    #    pickle.dump(all_features,pickleFile)\n",
    "    #with open('word_target_'+language+'.pkl','wb') as pickleFile:\n",
    "    #    pickle.dump(all_targets,pickleFile)\n",
    "            \n",
    "    print('Coverage: '+str(num_covered)+' / '+str(len(stabs))+' = '+str(num_covered/len(stabs)))\n",
    "print(time.time()-start)"
   ]
  },
  {
   "cell_type": "code",
   "execution_count": 3,
   "metadata": {
    "collapsed": true
   },
   "outputs": [],
   "source": [
    "all_coverage = [0.6899932386747802,0.17413710450623202,0.043435122919193034,0.35361085556577737,0.1332930247897543,\n",
    "               0.21788803655949077,0.158363473729242,0.6137978455191382,0.09328471589182619,0.10087220326128175,\n",
    "               0.09227267421501109,0.6200109349371241,0.21306084096781772,0.6686124831612034,0.3176112800663533,\n",
    "               0.16539390379218066,0.5546384222059898,0.130872259612181,0.3048688193743693,0.12352300995024876,\n",
    "               0.20537875786786391,0.8460109018830525,0.6687164725892975,0.13274491465980828,0.49576365663322186,\n",
    "               0.34456903539583894,0.16342171472808206,0.6811007689194658,0.5019420566698504,0.13117414162393717,\n",
    "               0.815318132711662,0.35843832202685866,0.7356696195935383,0.4048113861074375,0.25138236828377675,\n",
    "               0.5972857501884896,0.20026911863646557,0.23354406842692452] #in reverse order of languages"
   ]
  },
  {
   "cell_type": "code",
   "execution_count": 4,
   "metadata": {},
   "outputs": [
    {
     "data": {
      "text/plain": [
       "38"
      ]
     },
     "execution_count": 4,
     "metadata": {},
     "output_type": "execute_result"
    }
   ],
   "source": [
    "len(all_coverage)"
   ]
  },
  {
   "cell_type": "code",
   "execution_count": 5,
   "metadata": {},
   "outputs": [
    {
     "data": {
      "text/plain": [
       "0.3562389851748623"
      ]
     },
     "execution_count": 5,
     "metadata": {},
     "output_type": "execute_result"
    }
   ],
   "source": [
    "sum(all_coverage)/len(all_coverage)"
   ]
  },
  {
   "cell_type": "code",
   "execution_count": 11,
   "metadata": {},
   "outputs": [
    {
     "name": "stdout",
     "output_type": "stream",
     "text": [
      "ja 0.8460109018830525\n"
     ]
    }
   ],
   "source": [
    "for coverage,language in zip(all_coverage,languages[::-1]):\n",
    "    if coverage > 0.84:\n",
    "        print(language,coverage)"
   ]
  },
  {
   "cell_type": "code",
   "execution_count": null,
   "metadata": {
    "collapsed": true
   },
   "outputs": [],
   "source": []
  }
 ],
 "metadata": {
  "kernelspec": {
   "display_name": "Python 3",
   "language": "python",
   "name": "python3"
  },
  "language_info": {
   "codemirror_mode": {
    "name": "ipython",
    "version": 3
   },
   "file_extension": ".py",
   "mimetype": "text/x-python",
   "name": "python",
   "nbconvert_exporter": "python",
   "pygments_lexer": "ipython3",
   "version": "3.6.8"
  }
 },
 "nbformat": 4,
 "nbformat_minor": 2
}
