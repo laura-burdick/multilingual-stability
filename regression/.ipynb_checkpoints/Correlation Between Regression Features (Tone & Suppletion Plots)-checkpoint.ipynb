{
 "cells": [
  {
   "cell_type": "code",
   "execution_count": 12,
   "metadata": {},
   "outputs": [],
   "source": [
    "import pickle\n",
    "from scipy.stats import pearsonr\n",
    "import numpy as np"
   ]
  },
  {
   "cell_type": "code",
   "execution_count": 1,
   "metadata": {},
   "outputs": [],
   "source": [
    "languages = ['afr', 'aln', 'arb', 'arz', 'ayr', 'azb', 'azj', 'bba', 'ben', 'bqc', 'bul', 'cac', 'cak', 'ceb', 'ces', 'che', 'cme', 'cmn', 'cnh', 'crh', 'cym', 'dan', 'deu', 'dyu', 'ell', 'eng', 'epo', 'fin', 'fra', 'gub', 'guj', 'gur', 'hat', 'hmo', 'hrv', 'hui', 'hun', 'ifa', 'ifb', 'ify', 'ind', 'ita', 'kac', 'kaz', 'kek', 'kjb', 'kor', 'lat', 'lit', 'lnd', 'lsi', 'mad', 'mah', 'mam', 'may', 'mdy', 'mlg', 'mps', 'mri', 'mrw', 'mya', 'nhe', 'nld', 'nor', 'pis', 'plt', 'poh', 'por', 'prs', 'pxm', 'qub', 'quh', 'quy', 'quz', 'qxr', 'ron', 'rug', 'rus', 'som', 'suz', 'swe', 'tat', 'tbz', 'tcw', 'tgl', 'tlh', 'tpi', 'tpm', 'tur', 'tzo', 'ukr', 'vie', 'wal', 'wbm', 'xho', 'yua', 'zom', 'cat', 'spa', 'est', 'fas', 'heb', 'hin', 'jpn', 'lav', 'pol', 'slk', 'slv', 'srp', 'tha']"
   ]
  },
  {
   "cell_type": "code",
   "execution_count": 3,
   "metadata": {},
   "outputs": [],
   "source": [
    "features = []\n",
    "for language in languages:\n",
    "    with open('data/allLanguages_language_features_small_wals_'+language+'.pkl','rb') as pickleFile:\n",
    "        features.append(pickle.load(pickleFile))"
   ]
  },
  {
   "cell_type": "code",
   "execution_count": 6,
   "metadata": {},
   "outputs": [],
   "source": [
    "#all languages\n",
    "with open('data/allLanguages_wals_values.pkl','rb') as pickleFile:\n",
    "    labels = pickle.load(pickleFile)"
   ]
  },
  {
   "cell_type": "code",
   "execution_count": 17,
   "metadata": {},
   "outputs": [],
   "source": [
    "correlations = np.zeros((len(labels),len(labels)))\n",
    "for i in range(len(labels)):\n",
    "    i_weights = [feature[i] for feature in features]\n",
    "    for j in range(len(labels)):\n",
    "        j_weights = [feature[j] for feature in features]\n",
    "        correlations[i][j] = pearsonr(i_weights,j_weights)[0]"
   ]
  },
  {
   "cell_type": "code",
   "execution_count": 22,
   "metadata": {},
   "outputs": [
    {
     "name": "stdout",
     "output_type": "stream",
     "text": [
      "0.9560661587986472 13A: Tone__ 2A: Vowel Quality Inventories__\n",
      "0.9999999999999998 66A: The Past Tense__ 65A: Perfective/Imperfective Aspect__\n",
      "0.9999999999999998 67A: The Future Tense__ 65A: Perfective/Imperfective Aspect__\n",
      "0.9999999999999998 67A: The Future Tense__ 66A: The Past Tense__\n",
      "0.9130365894486985 86A: Order of Genitive and Noun__ 82A: Order of Subject and Verb__\n",
      "0.9138735334633753 100A: Alignment of Verbal Person Marking__ 29A: Syncretism in Verbal Person/Number Marking__\n",
      "0.9138735334633753 103A: Third Person Zero of Verbal Person Marking__ 29A: Syncretism in Verbal Person/Number Marking__\n",
      "0.9999999999999997 103A: Third Person Zero of Verbal Person Marking__ 100A: Alignment of Verbal Person Marking__\n",
      "0.9999999999999998 103A: Third Person Zero of Verbal Person Marking__No person marking 100A: Alignment of Verbal Person Marking__Neutral\n",
      "0.9999999999999999 119A: Nominal and Locational Predication__ 118A: Predicative Adjectives__\n",
      "0.9631363241760579 119A: Nominal and Locational Predication__Identical 118A: Predicative Adjectives__Nonverbal encoding\n",
      "0.9999999999999999 120A: Zero Copula for Predicate Nominals__ 118A: Predicative Adjectives__\n",
      "0.9999999999999999 120A: Zero Copula for Predicate Nominals__ 119A: Nominal and Locational Predication__\n",
      "0.9999999999999999 130A: Finger and Hand__ 129A: Hand and Arm__\n",
      "0.9069560318019143 131A: Numeral Bases__ 29A: Syncretism in Verbal Person/Number Marking__\n",
      "1.0 137A: N-M Pronouns__ 136A: M-T Pronouns__\n",
      "0.9130365894486985 143E: Preverbal Negative Morphemes__ 82A: Order of Subject and Verb__\n",
      "0.9130365894486985 143G: Minor morphological means of signaling negation__ 82A: Order of Subject and Verb__\n",
      "0.9999999999999999 143G: Minor morphological means of signaling negation__ 143E: Preverbal Negative Morphemes__\n",
      "1.0 136B: M in First Person Singular__ 136A: M-T Pronouns__\n",
      "1.0 136B: M in First Person Singular__ 137A: N-M Pronouns__\n",
      "0.930862425049444 136B: M in First Person Singular__m in first person singular 136A: M-T Pronouns__M-T pronouns, paradigmatic\n",
      "0.943975163291329 136B: M in First Person Singular__No m in first person singular 136A: M-T Pronouns__No M-T pronouns\n"
     ]
    }
   ],
   "source": [
    "for i in range(len(labels)):\n",
    "    for j in range(len(labels)):\n",
    "        if i<=j: \n",
    "            continue\n",
    "        if correlations[i][j] > 0.9:\n",
    "            print(correlations[i][j],labels[i],labels[j])"
   ]
  },
  {
   "cell_type": "code",
   "execution_count": null,
   "metadata": {},
   "outputs": [],
   "source": []
  }
 ],
 "metadata": {
  "kernelspec": {
   "display_name": "Python 3",
   "language": "python",
   "name": "python3"
  },
  "language_info": {
   "codemirror_mode": {
    "name": "ipython",
    "version": 3
   },
   "file_extension": ".py",
   "mimetype": "text/x-python",
   "name": "python",
   "nbconvert_exporter": "python",
   "pygments_lexer": "ipython3",
   "version": "3.7.4"
  }
 },
 "nbformat": 4,
 "nbformat_minor": 2
}
