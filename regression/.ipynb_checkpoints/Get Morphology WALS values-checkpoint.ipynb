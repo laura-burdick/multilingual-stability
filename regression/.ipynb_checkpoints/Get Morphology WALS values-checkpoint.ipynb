{
 "cells": [
  {
   "cell_type": "code",
   "execution_count": 5,
   "metadata": {},
   "outputs": [],
   "source": [
    "import pandas as pd\n",
    "import copy\n",
    "from tqdm import tqdm_notebook, tnrange\n",
    "import time\n",
    "import pickle"
   ]
  },
  {
   "cell_type": "code",
   "execution_count": 6,
   "metadata": {},
   "outputs": [],
   "source": [
    "#Wikipedia\n",
    "languages = ['ar','bg','ca','cs','da','de','el','en','et','fi','fr','he','hi','hu','id',\n",
    "            'it','ja','ko','lt','lv','ms','nl','no','pl','pt','ro','ru','sk','sl','sr','sv','th','tr','uk',\n",
    "            'vi','hr','tl','zh', 'fa', 'es']"
   ]
  },
  {
   "cell_type": "code",
   "execution_count": 7,
   "metadata": {},
   "outputs": [],
   "source": [
    "polyglot_path = '/data'"
   ]
  },
  {
   "cell_type": "code",
   "execution_count": 8,
   "metadata": {},
   "outputs": [],
   "source": [
    "wals = pd.read_csv('data/wals_polyglot_binary_values.csv')\n",
    "wals = wals.drop('Unnamed: 0',axis=1)"
   ]
  },
  {
   "cell_type": "code",
   "execution_count": 9,
   "metadata": {},
   "outputs": [],
   "source": [
    "features = [i for i in wals.columns.values if (i.split(':')[0]=='20A') or (i.split(':')[0]=='21A') or (i.split(':')[0]=='59A')]"
   ]
  },
  {
   "cell_type": "code",
   "execution_count": 10,
   "metadata": {},
   "outputs": [],
   "source": [
    "for language in languages:\n",
    "    language_wals = wals.loc[wals.polyglot_language_short==language]\n",
    "    if len(language_wals) < 1:\n",
    "        print('ERROR: no wals information for language '+language)\n",
    "        break\n",
    "    for it,row in language_wals.iterrows(): \n",
    "        #language_wals = list(row)[:-1] #exclude language name -- if you want all wals properties\n",
    "        language_wals = []\n",
    "        for wals_property in features:\n",
    "            language_wals.append(row[wals_property])\n",
    "        break #take only first row\n",
    "        \n",
    "    with open('dapolyglot_language_features_morphology_'+language+'.pkl','wb') as pickleFile:\n",
    "        pickle.dump(language_wals,pickleFile)"
   ]
  },
  {
   "cell_type": "code",
   "execution_count": null,
   "metadata": {
    "collapsed": true
   },
   "outputs": [],
   "source": []
  }
 ],
 "metadata": {
  "kernelspec": {
   "display_name": "Python 3",
   "language": "python",
   "name": "python3"
  },
  "language_info": {
   "codemirror_mode": {
    "name": "ipython",
    "version": 3
   },
   "file_extension": ".py",
   "mimetype": "text/x-python",
   "name": "python",
   "nbconvert_exporter": "python",
   "pygments_lexer": "ipython3",
   "version": "3.7.4"
  }
 },
 "nbformat": 4,
 "nbformat_minor": 2
}
