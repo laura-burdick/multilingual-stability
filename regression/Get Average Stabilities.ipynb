{
 "cells": [
  {
   "cell_type": "code",
   "execution_count": null,
   "metadata": {},
   "outputs": [],
   "source": [
    "# Laura Burdick (lburdick@umich.edu)\n",
    "# Get average stability for each language"
   ]
  },
  {
   "cell_type": "code",
   "execution_count": null,
   "metadata": {},
   "outputs": [],
   "source": [
    "import pandas as pd\n",
    "import pickle"
   ]
  },
  {
   "cell_type": "code",
   "execution_count": null,
   "metadata": {},
   "outputs": [],
   "source": [
    "# SET THESE VARIABLES\n",
    "\n",
    "# Location where stability for each word in each language of the Bible is\n",
    "# stored (calculated using stability/stability_bible.py).\n",
    "# Files should have the format\n",
    "# {output_path}{language}.csv,\n",
    "# where the csv file has columns \"word\" and \"stability\",\n",
    "# and the stability value is recorded for each word.\n",
    "bible_path = '../../embedding_datasets/multilingual/bible/nicolai/w2v/stability/'\n",
    "\n",
    "# List of Bible languages (can adjust if needed, or leave the same)\n",
    "bible_languages = ['afr-x-bible-1953-v1.txt', 'aln-x-bible-aln-v1.txt', 'arb-ARBIBS.txt', 'arb-x-bible-arb-v1.txt', 'arz-x-bible-arz-v1.txt', 'ayr-AYMBSB.txt', 'ayr-x-bible-1997-v1.txt', 'ayr-x-bible-2011-v1.txt', 'azb-x-bible-azb-v1.txt', 'azj-AZEBSA.txt', 'bba-BBABSB.txt', 'bba-x-bible-bba-v1.txt', 'ben-x-bible-common-v1.txt', 'ben-x-bible-mussolmani-v1.txt', 'bqc-BQCSIM.txt', 'bqc-x-bible-bqc-v1.txt', 'bul-x-bible-bul-v1.txt', 'bul-x-bible-veren-v1.txt', 'cac-x-bible-ixtatan-v1.txt', 'cak-x-bible-central2003-v1.txt', 'ceb-x-bible-bugna2009-v1.txt', 'ceb-x-bible-bugna-v1.txt', 'ceb-x-bible-godsword-v1.txt', 'ceb-x-bible-pinadayag-v1.txt', 'ces-x-bible-ekumenicky-v1.txt', 'ces-x-bible-kralicka-v1.txt', 'che-CHEIBT.txt', 'cme-CNHBSM.txt', 'cmn-x-bible-sf_ncv-zefania-v1.txt', 'cnh-x-bible-cnh-v1.txt', 'crh-CRHIBT.txt', 'cym-x-bible-colloquial2013-v1.txt', 'cym-x-bible-morgan1804-v1.txt', 'dan-x-bible-1931-v1.txt', 'deu-x-bible-elberfelder1871-v1.txt', 'deu-x-bible-elberfelder1905-v1.txt', 'deu-x-bible-freebible-v1.txt', 'deu-x-bible-gruenewalder-v1.txt', 'deu-x-bible-luther1545letztehand-v1.txt', 'deu-x-bible-luther1545-v1.txt', 'deu-x-bible-luther1912-v1.txt', 'deu-x-bible-neue-v1.txt', 'deu-x-bible-pattloch-v1.txt', 'deu-x-bible-schlachter-v1.txt', 'deu-x-bible-tafelbibel-v1.txt', 'deu-x-bible-textbibel-v1.txt', 'deu-x-bible-zuercher-v1.txt', 'dyu-DYUWYI.txt', 'ell-x-bible-modern2009-v1.txt', 'eng-x-bible-darby-v1.txt', 'eng-x-bible-kingjames-v1.txt', 'eng-x-bible-literal-v1.txt', 'eng-x-bible-newsimplified-v1.txt', 'epo-x-bible-epo-v1.txt', 'fin-x-bible-1766-v1.txt', 'fin-x-bible-1933-v1.txt', 'fin-x-bible-1992-v1.txt', 'fra-x-bible-bonnet-v1.txt', 'fra-x-bible-crampon-v1.txt', 'fra-x-bible-darby-v1.txt', 'fra-x-bible-davidmartin-v1.txt', 'fra-x-bible-jerusalem2004-v1.txt', 'fra-x-bible-kingjames-v1.txt', 'fra-x-bible-louissegond-v1.txt', 'fra-x-bible-ostervald1867-v1.txt', 'fra-x-bible-paroledevie-v1.txt', 'fra-x-bible-perret-v1.txt', 'fra-x-bible-pirotclamer-v1.txt', 'gub-GUBWBT.txt', 'guj-x-bible-guj-v1.txt', 'gur-x-bible-frafra-v1.txt', 'hat-x-bible-1985-v1.txt', 'hat-x-bible-1999-v1.txt', 'hmo-x-bible-hmo-v1.txt', 'hrv-x-bible-hrv-v1.txt', 'hui-HUIPNG.txt', 'hun-x-bible-2005-v1.txt', 'hun-x-bible-karoli-v1.txt', 'ifa-IFAWBT.txt', 'ifb-IFBTBL.txt', 'ify-IFYWBT.txt', 'ify-x-bible-ify-v1.txt', 'ind-x-bible-suciinjil-v1.txt', 'ind-x-bible-terjemahanbaru-v1.txt', 'ita-x-bible-2009-v1.txt', 'ita-x-bible-diodati-v1.txt', 'ita-x-bible-nuovadiodati1991-v1.txt', 'ita-x-bible-riveduta-v1.txt', 'kac-KACUBS.txt', 'kaz-x-bible-kaz-v1.txt', 'kek-x-bible-1988-v1.txt', 'kek-x-bible-2005-v1.txt', 'kjb-x-bible-kjb-v1.txt', 'kor-x-bible-revised-v1.txt', 'lat-x-bible-novavulgata-v1.txt', 'lat-x-bible-vulgataclementina-v1.txt', 'lit-x-bible-lit-v1.txt', 'lnd-LNDBSM.txt', 'lsi-LSIBSM.txt', 'mad-MADIBS.txt', 'mah-x-bible-mah-v1.txt', 'mam-x-bible-northern-v1.txt', 'may-ZLMAVB.txt', 'mdy-MDYBSE.txt', 'mlg-MLGRCV.txt', 'mlg-MLGRPV.txt', 'mps-x-bible-mps-v1.txt', 'mri-x-bible-mri-v1.txt', 'mrw-MRWNVS.txt', 'mya-x-bible-mya-v1.txt', 'nhe-NHETBL.txt', 'nld-x-bible-nld-v1.txt', 'nor-x-bible-nor-v1.txt', 'nor-x-bible-student-v1.txt', 'pis-x-bible-pis-v1.txt', 'plt-x-bible-romancatholic-v1.txt', 'poh-POHPOC.txt', 'poh-x-bible-eastern-v1.txt', 'por-x-bible-almeidaatualizada-v1.txt', 'por-x-bible-almeidarevista-v1.txt', 'por-x-bible-paratodos-v1.txt', 'prs-PRSGNN.txt', 'pxm-PXMBSM.txt', 'qub-x-bible-qub-v1.txt', 'quh-QUHSBB.txt', 'quh-x-bible-1993-v1.txt', 'quy-x-bible-quy-v1.txt', 'quz-QUZPBS.txt', 'quz-x-bible-quz-v1.txt', 'qxr-QXRBSE.txt', 'ron-x-bible-cornilescu-v1.txt', 'rug-RUGWBT.txt', 'rus-RUSS76.txt', 'rus-x-bible-synodal-v1.txt', 'som-SOMSIM.txt', 'som-x-bible-som-v1.txt', 'suz-SUZWBT.txt', 'swe-SWESFB.txt', 'swe-SWESFV.txt', 'swe-x-bible-folk1998-v1.txt', 'tat-TTRIBT.txt', 'tbz-TBZBSB.txt', 'tbz-x-bible-tbz-v1.txt', 'tcw-x-bible-tcw-v1.txt', 'tgl-x-bible-1905-v1.txt', 'tlh-x-bible-klingon-v1.txt', 'tpi-x-bible-tpi-v1.txt', 'tpm-TPMWBT.txt', 'tpm-x-bible-tpm-v1.txt', 'tur-x-bible-southernazeri-v1.txt', 'tzo-TZESBM.txt', 'ukr-x-bible-1962-v1.txt', 'ukr-x-bible-2009-v1.txt', 'vie-x-bible-1926compounds-v1.txt', 'vie-x-bible-1926nocompounds-v1.txt', 'vie-x-bible-2002-v1.txt', 'wal-x-bible-wal-v1.txt', 'wbm-x-bible-wbm-v1.txt', 'xho-x-bible-1996-v1.txt', 'xho-x-bible-xho-v1.txt', 'yua-YUASBM.txt', 'zom-x-bible-zom-v1.txt']\n",
    "\n",
    "# Location where stability for each word in each language of Wikipedia is\n",
    "# stored (calculated using stability/stability_wikipedia.py).\n",
    "# Files should have the format\n",
    "# {output_path}{language}_downsampled_without_replacement_glove_stability.csv,\n",
    "# where the csv file has columns \"word\" and \"stability\",\n",
    "# and the stability value is recorded for each word.\n",
    "wiki_path = '../../embedding_datasets/polyglot/'\n",
    "\n",
    "# List of Wikipedia languages (can adjust if needed, or leave the same)\n",
    "wiki_languages = languages=['ar','bg','ca','cs','da','de','el','en','es','et','fa','fi','fr','he','hi','hr','hu','id','it','ja','ko','lt','lv','ms','nl','no','pl','pt','ro','ru','sk','sl','sr','sv','th','tl','tr','uk','vi','zh']\n",
    "\n",
    "# Location to save output average stabilities\n",
    "# File will have be formatted as a csv file with columns \"language\" and\n",
    "# \"averageStability\", where language is the Bible code for the language\n",
    "# and averageStability is the average stability of that language\n",
    "output_path = 'data/average_stabilities_allLanguages.csv'\n"
   ]
  },
  {
   "cell_type": "code",
   "execution_count": null,
   "metadata": {},
   "outputs": [],
   "source": [
    "# First, calculate average stabilities for Bible\n",
    "average_stabilities = {} #key: abbrev. Bible language, values: avg. stability\n",
    "for bible_language in bible_languages:\n",
    "    stability = pd.read_csv(bible_path+bible_language[:-4]+'.csv')\n",
    "    average_stability = sum(stability.stability)/len(stability)\n",
    "    language = bible_language[:3] #abbrev. Bible language\n",
    "    if language in average_stabilities:\n",
    "        # If there is more than one translation in a language,\n",
    "        # take one with highest stability\n",
    "        if average_stability > average_stabilities[language]:\n",
    "            average_stabilities[language] = average_stability\n",
    "    else:\n",
    "        average_stabilities[language] = average_stability"
   ]
  },
  {
   "cell_type": "code",
   "execution_count": null,
   "metadata": {},
   "outputs": [],
   "source": [
    "# Read in mapping between Bible language names and Wikipedia language names\n",
    "mapping_file = pd.read_csv('multilingual_corpora.csv')\n",
    "mapping = {} #key: Wikipedia language code, values: Bible language code\n",
    "for it,row in mapping_file.iterrows():\n",
    "    if len(str(row['Identifier'])) > 2:\n",
    "        continue\n",
    "    mapping[row['Identifier']] = row['ISO 639-3 Code']\n",
    "mapping['ca'] = 'cat' # Some additional manual mappings\n",
    "mapping['fa'] = 'fas'\n",
    "mapping['id'] = 'ind'\n",
    "mapping['ja'] = 'jpn'\n",
    "mapping['lv'] = 'lav'\n",
    "mapping['ms'] = 'may'\n",
    "mapping['sl'] = 'slv'\n",
    "mapping['ar'] = 'arb'\n",
    "mapping['zh'] = 'mnd'"
   ]
  },
  {
   "cell_type": "code",
   "execution_count": null,
   "metadata": {},
   "outputs": [],
   "source": [
    "# Now, calculate average stabilities for Wikipedia\n",
    "for language in wiki_languages:\n",
    "    stability = pd.read_csv(wiki_path+language+'_downsampled_without_replacement_glove_stability.csv')\n",
    "    mapped_language = mapping[language]\n",
    "    average_stability = sum(stability.stability)/len(stability)\n",
    "    if mapped_language in average_stabilities:\n",
    "        average_stabilities[mapped_language] = (average_stabilities[mapped_language]+average_stability) / 2\n",
    "    else:\n",
    "        average_stabilities[mapped_language] = average_stability"
   ]
  },
  {
   "cell_type": "code",
   "execution_count": null,
   "metadata": {},
   "outputs": [],
   "source": [
    "# Save average stabilities\n",
    "stabilities = pd.DataFrame(data={'language':list(average_stabilities.keys()),'averageStability':[average_stabilities[i] for i in average_stabilities.keys()]})\n",
    "stabilities.to_csv(output_path)\n"
   ]
  }
 ],
 "metadata": {
  "kernelspec": {
   "display_name": "Python 3",
   "language": "python",
   "name": "python3"
  },
  "language_info": {
   "codemirror_mode": {
    "name": "ipython",
    "version": 3
   },
   "file_extension": ".py",
   "mimetype": "text/x-python",
   "name": "python",
   "nbconvert_exporter": "python",
   "pygments_lexer": "ipython3",
   "version": "3.7.4"
  }
 },
 "nbformat": 4,
 "nbformat_minor": 2
}
