{
 "cells": [
  {
   "cell_type": "code",
   "execution_count": null,
   "metadata": {},
   "outputs": [],
   "source": [
    "# Laura Burdick (lburdick@umich.edu)\n",
    "# Filter WALS values and languages for final regression model"
   ]
  },
  {
   "cell_type": "code",
   "execution_count": 1,
   "metadata": {},
   "outputs": [],
   "source": [
    "import pandas as pd\n",
    "import copy\n",
    "import pickle"
   ]
  },
  {
   "cell_type": "code",
   "execution_count": null,
   "metadata": {},
   "outputs": [],
   "source": [
    "# SET THESE VARIABLES\n",
    "\n",
    "# Location of binary WALS path (created with Making Wals Binary.ipynb)\n",
    "# Should be formatted as a csv file, with a separate column for each\n",
    "# binary WALS value, as well as a column called \"language\" with the\n",
    "# Bible language codes\n",
    "binary_wals_path = '~/embedding-spaces/multilingual_thesis/regression/data/wals_bible_binary_values.csv'\n",
    "\n",
    "# Location of output WALS labels for final regression model\n",
    "# Formatted as a pickle file which contains a list of WALS values\n",
    "wals_label_path = '~/embedding-spaces/multilingual_thesis/regression/data/allLanguages_wals_values.pkl'\n",
    "\n",
    "# Location of output WALS features for each language for regression model\n",
    "# For each language, formatted as a pickle file with name\n",
    "# {wals_features_path}{language}.pkl, where pickle file contains a list\n",
    "# of WALS feature values for that language\n",
    "wals_features_path = '~/embedding-spaces/multilingual_thesis/regression/data/allLanguages_language_features_small_wals_'"
   ]
  },
  {
   "cell_type": "code",
   "execution_count": 2,
   "metadata": {},
   "outputs": [],
   "source": [
    "# List of all languages in either Wikipedia or the Bible\n",
    "all_languages = ['afr', 'aln', 'arb', 'arz', 'ayr', 'azb', 'azj', 'bba', 'ben', 'bqc', 'bul', 'cac', 'cak', 'ceb',\\\n",
    "                 'ces', 'che', 'cme', 'cmn', 'cnh', 'crh', 'cym', 'dan', 'deu', 'dyu', 'ell', 'eng', 'epo', 'fin',\\\n",
    "                 'fra', 'gub', 'guj', 'gur', 'hat', 'hmo', 'hrv', 'hui', 'hun', 'ifa', 'ifb', 'ify', 'ind', 'ita',\\\n",
    "                 'kac', 'kaz', 'kek', 'kjb', 'kor', 'lat', 'lit', 'lnd', 'lsi', 'mad', 'mah', 'mam', 'may', 'mdy',\\\n",
    "                 'mlg', 'mps', 'mri', 'mrw', 'mya', 'nhe', 'nld', 'nor', 'pis', 'plt', 'poh', 'por', 'prs', 'pxm',\\\n",
    "                 'qub', 'quh', 'quy', 'quz', 'qxr', 'ron', 'rug', 'rus', 'som', 'suz', 'swe', 'tat', 'tbz', 'tcw',\\\n",
    "                 'tgl', 'tlh', 'tpi', 'tpm', 'tur', 'tzo', 'ukr', 'vie', 'wal', 'wbm', 'xho', 'yua', 'zom', 'cat',\\\n",
    "                 'spa', 'est', 'fas', 'heb', 'hin', 'jpn', 'lav', 'pol', 'slk', 'slv', 'srp', 'tha','mnd']"
   ]
  },
  {
   "cell_type": "code",
   "execution_count": 5,
   "metadata": {},
   "outputs": [],
   "source": [
    "wals = pd.read_csv(binary_wals_path)\n",
    "wals = wals.drop('Unnamed: 0',axis=1)"
   ]
  },
  {
   "cell_type": "code",
   "execution_count": 6,
   "metadata": {},
   "outputs": [],
   "source": [
    "# List of all WALS properties\n",
    "wals_numbers = list(set([i.split(':')[0] for i in wals.columns.values][:-1]))"
   ]
  },
  {
   "cell_type": "code",
   "execution_count": 7,
   "metadata": {},
   "outputs": [],
   "source": [
    "# Calculate the percentage of unknown WALS properties for each language\n",
    "all_unknown = []\n",
    "for language in all_languages:\n",
    "    unknown = 0\n",
    "    for number in wals_numbers:\n",
    "        relevant_columns = [i for i in wals.columns.values[:-1] if i.split(':')[0]==number]\n",
    "        null_column = [i for i in relevant_columns if i.split('__')[-1]==''][0]\n",
    "        if list(wals.loc[wals.language==language][null_column])[0]==1:\n",
    "            unknown += 1\n",
    "    all_unknown.append(copy.copy(unknown)/len(wals_numbers))"
   ]
  },
  {
   "cell_type": "code",
   "execution_count": 8,
   "metadata": {
    "scrolled": true
   },
   "outputs": [],
   "source": [
    "# Sorted by number of unknown WALS properties per langugage\n",
    "(all_unknown,languages_sorted)=zip(*sorted(zip(all_unknown,all_languages)))"
   ]
  },
  {
   "cell_type": "code",
   "execution_count": 9,
   "metadata": {},
   "outputs": [],
   "source": [
    "# Only include languages that have at least 25% of all WALS properties\n",
    "all_languages = [languages_sorted[i] for i in range(len(languages_sorted)) if all_unknown[i]<0.75]\n",
    "print(all_languages)\n",
    "print(len(all_languages)) # Should have 37 languages\n"
   ]
  },
  {
   "cell_type": "code",
   "execution_count": 11,
   "metadata": {},
   "outputs": [],
   "source": [
    "# Read in mapping between Bible language names and Wikipedia language names\n",
    "language_mapping = pd.read_csv('multilingual_corpora.csv')"
   ]
  },
  {
   "cell_type": "code",
   "execution_count": null,
   "metadata": {},
   "outputs": [],
   "source": [
    "# Get full language name for each language\n",
    "long_languages = []\n",
    "for language in all_languages:\n",
    "    _df = language_mapping.loc[language_mapping['ISO 639-3 Code']==language]\n",
    "    if len(_df) >= 1:\n",
    "        print(list(_df['Language'])[0])\n",
    "        long_languages.append(list(_df['Language'])[0])\n",
    "    else:\n",
    "        if language == 'mnd': # Some additional manual mappings\n",
    "            long_languages.append('Mandarin')\n",
    "        elif language == 'prs':\n",
    "            long_languages.append('Persian')\n",
    "        elif language == 'may':\n",
    "            long_languages.append('Maybrat')\n",
    "        elif language == 'hmo':\n",
    "            long_languages.append('Hmong Njua')\n",
    "        elif language=='cmn':\n",
    "            long_languages.append('Comanche')\n",
    "        elif language=='poh':\n",
    "            long_languages.append('Pohnpeian')\n",
    "        elif language=='ben':\n",
    "            long_languages.append('Bengali')\n",
    "        elif language=='che':\n",
    "            long_languages.append('Cherokee')\n",
    "        elif language=='lnd':\n",
    "            long_languages.append('Linda')\n",
    "        elif language=='mad':\n",
    "            long_languages.append(\"Ma'di\")\n",
    "        else:\n",
    "            print(language,'not in language mapping')"
   ]
  },
  {
   "cell_type": "code",
   "execution_count": 128,
   "metadata": {},
   "outputs": [],
   "source": [
    "# Only take subset of WALS dataset for languages that we need\n",
    "wals = wals.loc[wals.language.isin(all_languages)]"
   ]
  },
  {
   "cell_type": "code",
   "execution_count": 129,
   "metadata": {},
   "outputs": [],
   "source": [
    "# Only consider WALS properties where at list 25% of filtered languages\n",
    "# have the property, and at least 5 languages have the property\n",
    "good_wals = []\n",
    "good_wals_columns = []\n",
    "ratios = []\n",
    "for number in wals_numbers:\n",
    "    relevant_columns = [i for i in wals.columns.values[:-1] if i.split(':')[0]==number]\n",
    "    null_column = [i for i in relevant_columns if i.split('__')[-1]==''][0]\n",
    "    relevant_columns = [i for i in relevant_columns if i != null_column]\n",
    "    null_column_count = wals[null_column].sum()\n",
    "    ratio = null_column_count / len(all_languages) #percent of languages that don't have this property\n",
    "    ratios.append(ratio)\n",
    "    if ratio > 0.75:\n",
    "        continue #Greater than 75% of languages don't have this property\n",
    "    \n",
    "    good_columns = []\n",
    "    for column in relevant_columns:\n",
    "        column_count = wals[column].sum()\n",
    "        if column_count >= 5: #At least 5 languages have this property\n",
    "            good_columns.append(column)\n",
    "            \n",
    "    if len(good_columns) < 2: #There aren't two non-unknown features with greater than 5 languages\n",
    "        continue\n",
    "        \n",
    "    good_wals.append(number)\n",
    "    good_wals_columns += good_columns"
   ]
  },
  {
   "cell_type": "code",
   "execution_count": 130,
   "metadata": {},
   "outputs": [
    {
     "data": {
      "text/plain": [
       "0.5359116022099447"
      ]
     },
     "execution_count": 130,
     "metadata": {},
     "output_type": "execute_result"
    }
   ],
   "source": [
    "len(good_wals)/len(ratios) #percentage of wals properties that we're keeping"
   ]
  },
  {
   "cell_type": "code",
   "execution_count": 131,
   "metadata": {},
   "outputs": [
    {
     "data": {
      "text/plain": [
       "97"
      ]
     },
     "execution_count": 131,
     "metadata": {},
     "output_type": "execute_result"
    }
   ],
   "source": [
    "len(good_wals) # Should be 97"
   ]
  },
  {
   "cell_type": "code",
   "execution_count": 136,
   "metadata": {},
   "outputs": [],
   "source": [
    "# Read in Spearman's correlations between all WALS properties\n",
    "# (Includes manually grouped sets of properties)\n",
    "correlations = pd.read_csv('correlations.csv')"
   ]
  },
  {
   "cell_type": "code",
   "execution_count": 139,
   "metadata": {
    "scrolled": true
   },
   "outputs": [],
   "source": [
    "correlations_mapping1 = {} #mapping from WALS property to correlation group\n",
    "correlations_mapping2 = {} #mapping from correlation group to WALS property\n",
    "for it,row in correlations.iterrows():\n",
    "    correlations_mapping1[row.property1] = row.groupNum\n",
    "    correlations_mapping1[row.property2] = row.groupNum\n",
    "    if row.groupNum not in correlations_mapping2:\n",
    "        correlations_mapping2[row.groupNum] = set()\n",
    "    correlations_mapping2[row.groupNum].add(row.property1)\n",
    "    correlations_mapping2[row.groupNum].add(row.property2)"
   ]
  },
  {
   "cell_type": "code",
   "execution_count": 151,
   "metadata": {},
   "outputs": [],
   "source": [
    "# Replace correlated WALS properties with their correlation group\n",
    "all_languages_wals_values = [i for i in wals.columns.values if \\\n",
    "                             i in good_wals_columns]\n",
    "all_languages_wals_values = [i if i not in correlations_mapping1 \\\n",
    "                             else 'correlations_'+\\\n",
    "                             str(correlations_mapping1[i])\\\n",
    "                             for i in all_languages_wals_values ]\n",
    "all_languages_wals_values = list(set(all_languages_wals_values))"
   ]
  },
  {
   "cell_type": "code",
   "execution_count": 152,
   "metadata": {
    "scrolled": true
   },
   "outputs": [
    {
     "name": "stdout",
     "output_type": "stream",
     "text": [
      "['correlations_4', 'correlations_11', '54A: Distributive Numerals__No distributive numerals', '9A: The Velar Nasal__No initial velar nasal', 'correlations_3', '67A: The Future Tense__No inflectional future', '47A: Intensifiers and Reflexive Pronouns__Differentiated', '52A: Comitatives and Instrumentals__Identity', '14A: Fixed Stress Locations__Initial', '13A: Tone__No tones', '50A: Asymmetrical Case-Marking__Additive-quantitatively asymmetrical', '46A: Indefinite Pronouns__Interrogative-based', '57A: Position of Pronominal Possessive Affixes__No possessive affixes', '110A: Periphrastic Causative Constructions__Purposive but no sequential', '129A: Hand and Arm__Different', '143E: Preverbal Negative Morphemes__None', '143E: Preverbal Negative Morphemes__NegV', '92A: Position of Polar Question Particles__Initial', '106A: Reciprocal Constructions__Distinct from reflexive', 'correlations_0', '121A: Comparative Constructions__Locational', 'correlations_5', '86A: Order of Genitive and Noun__Noun-Genitive', '71A: The Prohibitive__Normal imperative + special negative', '125A: Purpose Clauses__Balanced/deranked', '4A: Voicing in Plosives and Fricatives__No voicing contrast', '23A: Locus of Marking in the Clause__Dependent marking', '52A: Comitatives and Instrumentals__Differentiation', '93A: Position of Interrogative Phrases in Content Questions__Initial interrogative phrase', '3A: Consonant-Vowel Ratio__Moderately low', 'correlations_2', '92A: Position of Polar Question Particles__Second position', '12A: Syllable Structure__Complex', '65A: Perfective/Imperfective Aspect__Grammatical marking', '82A: Order of Subject and Verb__SV', \"38A: Indefinite Articles__Indefinite word same as 'one'\", '89A: Order of Numeral and Noun__Numeral-Noun', '93A: Position of Interrogative Phrases in Content Questions__Not initial interrogative phrase', \"126A: 'When' Clauses__Balanced/deranked\", '50A: Asymmetrical Case-Marking__Symmetrical', '92A: Position of Polar Question Particles__Final', '70A: The Morphological Imperative__Second singular and second plural', '138A: Tea__Words derived from Min Nan Chinese te', '45A: Politeness Distinctions in Pronouns__No politeness distinction', 'correlations_20', '51A: Position of Case Affixes__Case suffixes', 'correlations_16', '142A: Para-Linguistic Usages of Clicks__Logical meanings', '29A: Syncretism in Verbal Person/Number Marking__Not syncretic', '86A: Order of Genitive and Noun__Genitive-Noun', '75A: Epistemic Possibility__Verbal constructions', '57A: Position of Pronominal Possessive Affixes__Possessive prefixes', '138A: Tea__Words derived from Sinitic cha', 'correlations_12', '28A: Case Syncretism__Core and non-core', '14A: Fixed Stress Locations__No fixed stress', '25A: Locus of Marking: Whole-language Typology__Inconsistent or other', '45A: Politeness Distinctions in Pronouns__Binary politeness distinction', 'correlations_9', '25A: Locus of Marking: Whole-language Typology__Dependent-marking', 'correlations_14', '69A: Position of Tense-Aspect Affixes__Mixed type', '125A: Purpose Clauses__Deranked', '101A: Expression of Pronominal Subjects__Obligatory pronouns in subject position', '55A: Numeral Classifiers__Absent', '87A: Order of Adjective and Noun__Adjective-Noun', '13A: Tone__Simple tone system', '118A: Predicative Adjectives__Verbal encoding', \"124A: 'Want' Complement Subjects__Subject is left implicit\", '120A: Zero Copula for Predicate Nominals__Impossible', '106A: Reciprocal Constructions__Mixed', '121A: Comparative Constructions__Particle', '36A: The Associative Plural__Associative same as additive plural', '49A: Number of Cases__No morphological case-marking', '37A: Definite Articles__No definite, but indefinite article', 'correlations_18', '30A: Number of Genders__Two', '16A: Weight Factors in Weight-Sensitive Stress Systems__Lexical stress', '57A: Position of Pronominal Possessive Affixes__Possessive suffixes', '112A: Negative Morphemes__Negative particle', \"38A: Indefinite Articles__Indefinite word distinct from 'one'\", '47A: Intensifiers and Reflexive Pronouns__Identical', 'correlations_7', 'correlations_6', '143F: Postverbal Negative Morphemes__VNeg', '64A: Nominal and Verbal Conjunction__Differentiation', '97A: Relationship between the Order of Object and Verb and the Order of Adjective and Noun__VO and NAdj', '41A: Distance Contrasts in Demonstratives__Two-way contrast', '120A: Zero Copula for Predicate Nominals__Possible', '85A: Order of Adposition and Noun Phrase__Postpositions', '97A: Relationship between the Order of Object and Verb and the Order of Adjective and Noun__VO and AdjN', 'correlations_1', '117A: Predicative Possession__Locational', '90A: Order of Relative Clause and Noun__Relative clause-Noun', 'correlations_21', '2A: Vowel Quality Inventories__Large (7-14)', '79A: Suppletion According to Tense and Aspect__None', '45A: Politeness Distinctions in Pronouns__Pronouns avoided for politeness', '76A: Overlap between Situational and Epistemic Modal Marking__Overlap for either possibility or necessity', '125A: Purpose Clauses__Balanced', '90A: Order of Relative Clause and Noun__Noun-Relative clause', '127A: Reason Clauses__Balanced/deranked', '123A: Relativization on Obliques__Gap', '54A: Distributive Numerals__Marked by preceding word', '87A: Order of Adjective and Noun__Noun-Adjective', '26A: Prefixing vs. Suffixing in Inflectional Morphology__Little affixation', '76A: Overlap between Situational and Epistemic Modal Marking__Overlap for both possibility and necessity', '115A: Negative Indefinite Pronouns and Predicate Negation__Predicate negation also present', '66A: The Past Tense__Present, no remoteness distinctions', 'correlations_15', 'correlations_8', '79A: Suppletion According to Tense and Aspect__Tense and aspect', '113A: Symmetric and Asymmetric Standard Negation__Both', '143F: Postverbal Negative Morphemes__None', '129A: Hand and Arm__Identical', '44A: Gender Distinctions in Independent Personal Pronouns__3rd person singular only', '82A: Order of Subject and Verb__No dominant order', '103A: Third Person Zero of Verbal Person Marking__Zero in all 3sg forms', '22A: Inflectional Synthesis of the Verb__4-5 categories per word', '9A: The Velar Nasal__No velar nasal', '74A: Situational Possibility__Verbal constructions', '86A: Order of Genitive and Noun__No dominant order', '72A: Imperative-Hortative Systems__Maximal system', '67A: The Future Tense__Inflectional future exists', '102A: Verbal Person Marking__Only the A argument', '21A: Exponence of Selected Inflectional Formatives__Monoexponential case', '65A: Perfective/Imperfective Aspect__No grammatical marking', '26A: Prefixing vs. Suffixing in Inflectional Morphology__Weakly suffixing', '53A: Ordinal Numerals__First/one-th, two-th, three-th', '68A: The Perfect__Other perfect', '38A: Indefinite Articles__No indefinite, but definite article', '75A: Epistemic Possibility__Other', '88A: Order of Demonstrative and Noun__Demonstrative-Noun', '68A: The Perfect__No perfect', 'correlations_10', 'correlations_13', '144A: Position of Negative Word With Respect to Subject, Object, and Verb__SNegVO', '53A: Ordinal Numerals__First, second, three-th', '36A: The Associative Plural__No associative plural', '12A: Syllable Structure__Moderately complex', 'correlations_19', '144A: Position of Negative Word With Respect to Subject, Object, and Verb__More than one position', '70A: The Morphological Imperative__No second-person imperatives', '5A: Voicing and Gaps in Plosive Systems__Other', '46A: Indefinite Pronouns__Generic-noun-based', '4A: Voicing in Plosives and Fricatives__In plosives alone', 'correlations_17', '41A: Distance Contrasts in Demonstratives__Three-way contrast', \"117A: Predicative Possession__'Have'\", '16A: Weight Factors in Weight-Sensitive Stress Systems__No weight', '22A: Inflectional Synthesis of the Verb__2-3 categories per word', '55A: Numeral Classifiers__Obligatory', '88A: Order of Demonstrative and Noun__Noun-Demonstrative', '115A: Negative Indefinite Pronouns and Predicate Negation__Mixed behaviour', '79A: Suppletion According to Tense and Aspect__Tense', '55A: Numeral Classifiers__Optional', '17A: Rhythm Types__No rhythmic stress', '2A: Vowel Quality Inventories__Average (5-6)', '29A: Syncretism in Verbal Person/Number Marking__Syncretic', '100A: Alignment of Verbal Person Marking__Accusative', '21A: Exponence of Selected Inflectional Formatives__No case', '119A: Nominal and Locational Predication__Different', '49A: Number of Cases__6-7 cases', '3A: Consonant-Vowel Ratio__Low', '72A: Imperative-Hortative Systems__Neither type of system', '17A: Rhythm Types__Trochaic', '64A: Nominal and Verbal Conjunction__Identity', '74A: Situational Possibility__Affixes on verbs', '101A: Expression of Pronominal Subjects__Subject affixes on verb', \"124A: 'Want' Complement Subjects__Subject is expressed overtly\", '92A: Position of Polar Question Particles__No question particle', '51A: Position of Case Affixes__No case affixes or adpositional clitics', '110A: Periphrastic Causative Constructions__Sequential but no purposive', '114A: Subtypes of Asymmetric Standard Negation__A/Cat', '89A: Order of Numeral and Noun__Noun-Numeral', '142A: Para-Linguistic Usages of Clicks__Affective meanings', '40A: Inclusive/Exclusive Distinction in Verbal Inflection__No inclusive/exclusive', '37A: Definite Articles__Definite word distinct from demonstrative', '3A: Consonant-Vowel Ratio__Average', '27A: Reduplication__Productive full and partial reduplication', '103A: Third Person Zero of Verbal Person Marking__No zero realization', '71A: The Prohibitive__Normal imperative + normal negative', '102A: Verbal Person Marking__Both the A and P arguments', '118A: Predicative Adjectives__Mixed', '27A: Reduplication__No productive reduplication']\n",
      "185\n"
     ]
    }
   ],
   "source": [
    "# Final list of WALS properties to use in the regression model\n",
    "print(all_languages_wals_values)\n",
    "print(len(all_languages_wals_values))"
   ]
  },
  {
   "cell_type": "code",
   "execution_count": 153,
   "metadata": {},
   "outputs": [],
   "source": [
    "# Save final list of WALS labels for regression model\n",
    "with open(wals_labels_path,'wb') as pickleFile:\n",
    "    pickle.dump(all_languages_wals_values,pickleFile)"
   ]
  },
  {
   "cell_type": "code",
   "execution_count": 177,
   "metadata": {
    "scrolled": true
   },
   "outputs": [],
   "source": [
    "# For each language, generate list of binary features for regression model.\n",
    "# Save list of binary features\n",
    "for language in all_languages:\n",
    "    language_wals = wals.loc[wals.language==language]\n",
    "    if len(language_wals) < 1:\n",
    "        print('ERROR: no wals information for language '+language)\n",
    "        continue\n",
    "    for it,row in language_wals.iterrows(): \n",
    "        language_wals_array = []\n",
    "        for wals_property in all_languages_wals_values:\n",
    "            \n",
    "            if wals_property[:13] == 'correlations_': #handle correlation groups\n",
    "                correlation_num = int(wals_property.split('_')[1])\n",
    "                relevant_columns = correlations_mapping2[correlation_num]\n",
    "                found = False\n",
    "                for column in list(relevant_columns): #if any of the correlation categories are 1, make it 1\n",
    "                    if row[column] == 1:\n",
    "                        found = True\n",
    "                        break\n",
    "                if found: #one of the columns had a 1 value\n",
    "                    language_wals_array.append(1)\n",
    "                else: #none of the columns had a 1 value\n",
    "                    language_wals_array.append(0)\n",
    "                continue\n",
    "                \n",
    "            #not a correlation group\n",
    "            language_wals_array.append(row[wals_property])\n",
    "                    \n",
    "        break #take only first row (only one row per language)\n",
    "        \n",
    "    # Save features for this language\n",
    "    with open(wals_features_path+language+'.pkl','wb') as pickleFile:\n",
    "        pickle.dump(language_wals_array,pickleFile) #WALS features"
   ]
  },
  {
   "cell_type": "code",
   "execution_count": 182,
   "metadata": {},
   "outputs": [
    {
     "name": "stdout",
     "output_type": "stream",
     "text": [
      "0 {'4A: Voicing in Plosives and Fricatives__In both plosives and fricatives', '5A: Voicing and Gaps in Plosive Systems__None missing in /p t k b d g/'}\n",
      "\n",
      "\n",
      "1 {'32A: Systems of Gender Assignment__No gender', '31A: Sex-based and Non-sex-based Gender Systems__No gender', '44A: Gender Distinctions in Independent Personal Pronouns__No gender distinctions', '30A: Number of Genders__None'}\n",
      "\n",
      "\n",
      "2 {'32A: Systems of Gender Assignment__Semantic and formal', '31A: Sex-based and Non-sex-based Gender Systems__Sex-based'}\n",
      "\n",
      "\n",
      "3 {'38A: Indefinite Articles__No definite or indefinite article', '37A: Definite Articles__No definite or indefinite article'}\n",
      "\n",
      "\n",
      "4 {'100A: Alignment of Verbal Person Marking__Neutral', '103A: Third Person Zero of Verbal Person Marking__No person marking', '29A: Syncretism in Verbal Person/Number Marking__No subject person/number marking', '40A: Inclusive/Exclusive Distinction in Verbal Inflection__No person marking', '101A: Expression of Pronominal Subjects__Optional pronouns in subject position', '102A: Verbal Person Marking__No person marking'}\n",
      "\n",
      "\n",
      "5 {'66A: The Past Tense__No past tense', '50A: Asymmetrical Case-Marking__No case-marking', '98A: Alignment of Case Marking of Full Noun Phrases__Neutral', '99A: Alignment of Case Marking of Pronouns__Neutral'}\n",
      "\n",
      "\n",
      "6 {'26A: Prefixing vs. Suffixing in Inflectional Morphology__Strongly suffixing', '69A: Position of Tense-Aspect Affixes__Tense-aspect suffixes'}\n",
      "\n",
      "\n",
      "7 {'69A: Position of Tense-Aspect Affixes__No tense-aspect inflection', '23A: Locus of Marking in the Clause__No marking'}\n",
      "\n",
      "\n",
      "8 {'78A: Coding of Evidentiality__Verbal affix or clitic', '77A: Semantic Distinctions of Evidentiality__Indirect only'}\n",
      "\n",
      "\n",
      "9 {'77A: Semantic Distinctions of Evidentiality__No grammatical evidentials', '78A: Coding of Evidentiality__No grammatical evidentials'}\n",
      "\n",
      "\n",
      "10 {'81A: Order of Subject, Object and Verb__SOV', '83A: Order of Object and Verb__OV'}\n",
      "\n",
      "\n",
      "11 {'81A: Order of Subject, Object and Verb__SVO', '83A: Order of Object and Verb__VO'}\n",
      "\n",
      "\n",
      "12 {'85A: Order of Adposition and Noun Phrase__Prepositions', '95A: Relationship between the Order of Object and Verb and the Order of Adposition and Noun Phrase__VO and Prepositions'}\n",
      "\n",
      "\n",
      "13 {'95A: Relationship between the Order of Object and Verb and the Order of Adposition and Noun Phrase__OV and Postpositions', '97A: Relationship between the Order of Object and Verb and the Order of Adjective and Noun__OV and AdjN'}\n",
      "\n",
      "\n",
      "14 {'98A: Alignment of Case Marking of Full Noun Phrases__Nominative - accusative (standard)', '99A: Alignment of Case Marking of Pronouns__Nominative - accusative (standard)'}\n",
      "\n",
      "\n",
      "15 {'114A: Subtypes of Asymmetric Standard Negation__Non-assignable', '113A: Symmetric and Asymmetric Standard Negation__Symmetric'}\n",
      "\n",
      "\n",
      "16 {'118A: Predicative Adjectives__Nonverbal encoding', '119A: Nominal and Locational Predication__Identical'}\n",
      "\n",
      "\n",
      "17 {'136A: M-T Pronouns__No M-T pronouns', '122A: Relativization on Subjects__Gap', '136B: M in First Person Singular__No m in first person singular', '28A: Case Syncretism__No case marking'}\n",
      "\n",
      "\n",
      "18 {'122A: Relativization on Subjects__Relative pronoun', '123A: Relativization on Obliques__Relative pronoun'}\n",
      "\n",
      "\n",
      "19 {\"126A: 'When' Clauses__Balanced\", '127A: Reason Clauses__Balanced'}\n",
      "\n",
      "\n",
      "20 {'144A: Position of Negative Word With Respect to Subject, Object, and Verb__MorphNeg', '112A: Negative Morphemes__Negative affix'}\n",
      "\n",
      "\n",
      "21 {'136A: M-T Pronouns__M-T pronouns, paradigmatic', '136B: M in First Person Singular__m in first person singular'}\n",
      "\n",
      "\n"
     ]
    }
   ],
   "source": [
    "# Here are all the correlation groupings\n",
    "for i in range(22):\n",
    "    print(i,correlations_mapping2[i])\n",
    "    print('\\n')"
   ]
  }
 ],
 "metadata": {
  "kernelspec": {
   "display_name": "Python 3",
   "language": "python",
   "name": "python3"
  },
  "language_info": {
   "codemirror_mode": {
    "name": "ipython",
    "version": 3
   },
   "file_extension": ".py",
   "mimetype": "text/x-python",
   "name": "python",
   "nbconvert_exporter": "python",
   "pygments_lexer": "ipython3",
   "version": "3.7.4"
  }
 },
 "nbformat": 4,
 "nbformat_minor": 2
}
